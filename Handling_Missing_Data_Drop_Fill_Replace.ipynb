{
  "nbformat": 4,
  "nbformat_minor": 0,
  "metadata": {
    "colab": {
      "provenance": [],
      "authorship_tag": "ABX9TyObPxshQA0leZyuMUtrmxWn",
      "include_colab_link": true
    },
    "kernelspec": {
      "name": "python3",
      "display_name": "Python 3"
    },
    "language_info": {
      "name": "python"
    }
  },
  "cells": [
    {
      "cell_type": "markdown",
      "metadata": {
        "id": "view-in-github",
        "colab_type": "text"
      },
      "source": [
        "<a href=\"https://colab.research.google.com/github/KVenkataPavani/Pandas_Python/blob/main/Handling_Missing_Data_Drop_Fill_Replace.ipynb\" target=\"_parent\"><img src=\"https://colab.research.google.com/assets/colab-badge.svg\" alt=\"Open In Colab\"/></a>"
      ]
    },
    {
      "cell_type": "markdown",
      "source": [
        "#**Handling Missing Data**"
      ],
      "metadata": {
        "id": "6F8_ZYGS1k_E"
      }
    },
    {
      "cell_type": "code",
      "execution_count": 1,
      "metadata": {
        "id": "69XpKEaW1e2z"
      },
      "outputs": [],
      "source": [
        "import pandas as pd"
      ]
    },
    {
      "cell_type": "code",
      "source": [
        "data = pd.read_csv(\"company1.csv\")\n",
        "print(data)"
      ],
      "metadata": {
        "colab": {
          "base_uri": "https://localhost:8080/"
        },
        "id": "Pmmy5xHu17AZ",
        "outputId": "7a35b9a2-25c5-4dc4-ce07-e6a0c481275a"
      },
      "execution_count": 24,
      "outputs": [
        {
          "output_type": "stream",
          "name": "stdout",
          "text": [
            "    EEID      Name gender   salary\n",
            "0  EMP01    ayushi      F      NaN\n",
            "1  EMP02     rohit      M  25000.0\n",
            "2  EMP03  pranjali    NaN  27000.0\n",
            "3  EMP01    ayushi      F  20000.0\n",
            "4  EMP05       NaN      M  25000.0\n",
            "5  EMP06     rohit      M      NaN\n",
            "6  EMP02     rohit      M  25000.0\n"
          ]
        }
      ]
    },
    {
      "cell_type": "code",
      "source": [
        "print(data.isnull())"
      ],
      "metadata": {
        "colab": {
          "base_uri": "https://localhost:8080/"
        },
        "id": "_RCWwI2n2EVX",
        "outputId": "328f8c5b-37d1-4b91-b649-078a129c9a94"
      },
      "execution_count": 25,
      "outputs": [
        {
          "output_type": "stream",
          "name": "stdout",
          "text": [
            "    EEID   Name  gender  salary\n",
            "0  False  False   False    True\n",
            "1  False  False   False   False\n",
            "2  False  False    True   False\n",
            "3  False  False   False   False\n",
            "4  False   True   False   False\n",
            "5  False  False   False    True\n",
            "6  False  False   False   False\n"
          ]
        }
      ]
    },
    {
      "cell_type": "code",
      "source": [
        "print(data.isnull().sum())"
      ],
      "metadata": {
        "colab": {
          "base_uri": "https://localhost:8080/"
        },
        "id": "yiIXRAuo2SYE",
        "outputId": "18fe09d0-9fe0-4c1e-831d-01a983d5a412"
      },
      "execution_count": 26,
      "outputs": [
        {
          "output_type": "stream",
          "name": "stdout",
          "text": [
            "EEID      0\n",
            "Name      1\n",
            "gender    1\n",
            "salary    2\n",
            "dtype: int64\n"
          ]
        }
      ]
    },
    {
      "cell_type": "code",
      "source": [
        "#to remove null values = .dropna()\n",
        "# Drop rows with any missing values\n",
        "print(data.dropna())"
      ],
      "metadata": {
        "colab": {
          "base_uri": "https://localhost:8080/"
        },
        "id": "ka2CAZ1x2YWH",
        "outputId": "f6809607-790b-4c24-bd5e-070e8a84651e"
      },
      "execution_count": 27,
      "outputs": [
        {
          "output_type": "stream",
          "name": "stdout",
          "text": [
            "    EEID    Name gender   salary\n",
            "1  EMP02   rohit      M  25000.0\n",
            "3  EMP01  ayushi      F  20000.0\n",
            "6  EMP02   rohit      M  25000.0\n"
          ]
        }
      ]
    },
    {
      "cell_type": "code",
      "source": [
        "# df.fillna()  # filling null values with above or below data in columns\n",
        "print(data)"
      ],
      "metadata": {
        "colab": {
          "base_uri": "https://localhost:8080/"
        },
        "id": "QL9mZ01K2e-Y",
        "outputId": "56641cb5-ca62-4c87-8241-5d30f3d99350"
      },
      "execution_count": 28,
      "outputs": [
        {
          "output_type": "stream",
          "name": "stdout",
          "text": [
            "    EEID      Name gender   salary\n",
            "0  EMP01    ayushi      F      NaN\n",
            "1  EMP02     rohit      M  25000.0\n",
            "2  EMP03  pranjali    NaN  27000.0\n",
            "3  EMP01    ayushi      F  20000.0\n",
            "4  EMP05       NaN      M  25000.0\n",
            "5  EMP06     rohit      M      NaN\n",
            "6  EMP02     rohit      M  25000.0\n"
          ]
        }
      ]
    },
    {
      "cell_type": "code",
      "source": [
        "print(data.fillna(\"hi\"))"
      ],
      "metadata": {
        "colab": {
          "base_uri": "https://localhost:8080/"
        },
        "id": "6mXXgNj53C0b",
        "outputId": "08ad727b-99df-439c-ed16-710ed194823a"
      },
      "execution_count": 32,
      "outputs": [
        {
          "output_type": "stream",
          "name": "stdout",
          "text": [
            "    EEID      Name gender   salary\n",
            "0  EMP01    ayushi      F       hi\n",
            "1  EMP02     rohit      M  25000.0\n",
            "2  EMP03  pranjali     hi  27000.0\n",
            "3  EMP01    ayushi      F  20000.0\n",
            "4  EMP05        hi      M  25000.0\n",
            "5  EMP06     rohit      M       hi\n",
            "6  EMP02     rohit      M  25000.0\n"
          ]
        }
      ]
    },
    {
      "cell_type": "code",
      "source": [
        "print(data.bfill())"
      ],
      "metadata": {
        "colab": {
          "base_uri": "https://localhost:8080/"
        },
        "id": "ixfCaTXa6Wkx",
        "outputId": "3fd20e9d-2dbb-460a-bcc3-15cadb9136e4"
      },
      "execution_count": 30,
      "outputs": [
        {
          "output_type": "stream",
          "name": "stdout",
          "text": [
            "    EEID      Name gender   salary\n",
            "0  EMP01    ayushi      F  25000.0\n",
            "1  EMP02     rohit      M  25000.0\n",
            "2  EMP03  pranjali      F  27000.0\n",
            "3  EMP01    ayushi      F  20000.0\n",
            "4  EMP05     rohit      M  25000.0\n",
            "5  EMP06     rohit      M  25000.0\n",
            "6  EMP02     rohit      M  25000.0\n"
          ]
        }
      ]
    },
    {
      "cell_type": "code",
      "source": [
        "print(data.ffill())"
      ],
      "metadata": {
        "colab": {
          "base_uri": "https://localhost:8080/"
        },
        "id": "wPadNqMe6vD_",
        "outputId": "66b11ebf-7700-44e4-b57e-101b2438f9d6"
      },
      "execution_count": 31,
      "outputs": [
        {
          "output_type": "stream",
          "name": "stdout",
          "text": [
            "    EEID      Name gender   salary\n",
            "0  EMP01    ayushi      F      NaN\n",
            "1  EMP02     rohit      M  25000.0\n",
            "2  EMP03  pranjali      M  27000.0\n",
            "3  EMP01    ayushi      F  20000.0\n",
            "4  EMP05    ayushi      M  25000.0\n",
            "5  EMP06     rohit      M  25000.0\n",
            "6  EMP02     rohit      M  25000.0\n"
          ]
        }
      ]
    },
    {
      "cell_type": "code",
      "source": [
        "#if we have numeric we find mean and then replace that\n",
        "print(data[\"salary\"].mean())\n",
        "print(data)"
      ],
      "metadata": {
        "colab": {
          "base_uri": "https://localhost:8080/"
        },
        "id": "Xd6V7-Cm66IS",
        "outputId": "5082821b-a1c4-46ea-b3f1-54eae5a210bf"
      },
      "execution_count": 35,
      "outputs": [
        {
          "output_type": "stream",
          "name": "stdout",
          "text": [
            "24400.0\n",
            "    EEID      Name gender   salary\n",
            "0  EMP01    ayushi      F      NaN\n",
            "1  EMP02     rohit      M  25000.0\n",
            "2  EMP03  pranjali    NaN  27000.0\n",
            "3  EMP01    ayushi      F  20000.0\n",
            "4  EMP05       NaN      M  25000.0\n",
            "5  EMP06     rohit      M      NaN\n",
            "6  EMP02     rohit      M  25000.0\n"
          ]
        }
      ]
    },
    {
      "cell_type": "code",
      "source": [
        "import numpy as np\n",
        "data[\"salary\"]=data[\"salary\"].replace(np.nan,24400)\n",
        "print(data)"
      ],
      "metadata": {
        "colab": {
          "base_uri": "https://localhost:8080/"
        },
        "id": "XOHIhdfQ7cwk",
        "outputId": "172df8a1-6a9e-4c53-992e-ea75ab8d7d35"
      },
      "execution_count": 37,
      "outputs": [
        {
          "output_type": "stream",
          "name": "stdout",
          "text": [
            "    EEID      Name gender   salary\n",
            "0  EMP01    ayushi      F  24400.0\n",
            "1  EMP02     rohit      M  25000.0\n",
            "2  EMP03  pranjali    NaN  27000.0\n",
            "3  EMP01    ayushi      F  20000.0\n",
            "4  EMP05       NaN      M  25000.0\n",
            "5  EMP06     rohit      M  24400.0\n",
            "6  EMP02     rohit      M  25000.0\n"
          ]
        }
      ]
    }
  ]
}