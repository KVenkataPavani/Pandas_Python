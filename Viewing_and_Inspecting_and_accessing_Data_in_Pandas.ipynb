{
  "nbformat": 4,
  "nbformat_minor": 0,
  "metadata": {
    "colab": {
      "provenance": [],
      "authorship_tag": "ABX9TyPZN7AbuqFlBdtKUHljG2Du",
      "include_colab_link": true
    },
    "kernelspec": {
      "name": "python3",
      "display_name": "Python 3"
    },
    "language_info": {
      "name": "python"
    }
  },
  "cells": [
    {
      "cell_type": "markdown",
      "metadata": {
        "id": "view-in-github",
        "colab_type": "text"
      },
      "source": [
        "<a href=\"https://colab.research.google.com/github/KVenkataPavani/Pandas_Python/blob/main/Viewing_and_Inspecting_and_accessing_Data_in_Pandas.ipynb\" target=\"_parent\"><img src=\"https://colab.research.google.com/assets/colab-badge.svg\" alt=\"Open In Colab\"/></a>"
      ]
    },
    {
      "cell_type": "markdown",
      "source": [
        "#**Viewing and Inspecting Data in Pandas**"
      ],
      "metadata": {
        "id": "WpWsqqxHbd1R"
      }
    },
    {
      "cell_type": "code",
      "execution_count": 1,
      "metadata": {
        "id": "GeHNyVlGbbiI"
      },
      "outputs": [],
      "source": [
        "import pandas as pd\n"
      ]
    },
    {
      "cell_type": "code",
      "source": [
        "data = pd.read_excel(\"ESD.xlsx\")\n",
        "print(data)"
      ],
      "metadata": {
        "colab": {
          "base_uri": "https://localhost:8080/"
        },
        "id": "vrbKzSr7b__i",
        "outputId": "995052a9-94eb-4e7a-a5ab-58054a759ff4"
      },
      "execution_count": 2,
      "outputs": [
        {
          "output_type": "stream",
          "name": "stdout",
          "text": [
            "       EEID        Full Name                 Job Title  Department  \\\n",
            "0    E02387      Emily Davis                Sr. Manger          IT   \n",
            "1    E04105    Theodore Dinh       Technical Architect          IT   \n",
            "2    E02572     Luna Sanders                  Director     Finance   \n",
            "3    E02832  Penelope Jordan  Computer Systems Manager          IT   \n",
            "4    E01639        Austin Vo               Sr. Analyst     Finance   \n",
            "..      ...              ...                       ...         ...   \n",
            "995  E03094     Wesley Young               Sr. Analyst   Marketing   \n",
            "996  E01909     Lillian Khan                   Analyst     Finance   \n",
            "997  E04398      Oliver Yang                  Director   Marketing   \n",
            "998  E02521      Lily Nguyen               Sr. Analyst     Finance   \n",
            "999  E03545      Sofia Cheng            Vice President  Accounting   \n",
            "\n",
            "              Business Unit  Gender  Ethnicity  Age  Hire Date  Annual Salary  \\\n",
            "0    Research & Development  Female      Black   55 2016-04-08         141604   \n",
            "1             Manufacturing    Male      Asian   59 1997-11-29          99975   \n",
            "2       Speciality Products  Female  Caucasian   50 2006-10-26         163099   \n",
            "3             Manufacturing  Female  Caucasian   26 2019-09-27          84913   \n",
            "4             Manufacturing    Male      Asian   55 1995-11-20          95409   \n",
            "..                      ...     ...        ...  ...        ...            ...   \n",
            "995     Speciality Products    Male  Caucasian   33 2016-09-18          98427   \n",
            "996     Speciality Products  Female      Asian   44 2010-05-31          47387   \n",
            "997     Speciality Products    Male      Asian   31 2019-06-10         176710   \n",
            "998     Speciality Products  Female      Asian   33 2012-01-28          95960   \n",
            "999               Corporate  Female      Asian   63 2020-07-26         216195   \n",
            "\n",
            "     Bonus %        Country       City  Exit Date  \n",
            "0       0.15  United States    Seattle 2021-10-16  \n",
            "1       0.00          China  Chongqing        NaT  \n",
            "2       0.20  United States    Chicago        NaT  \n",
            "3       0.07  United States    Chicago        NaT  \n",
            "4       0.00  United States    Phoenix        NaT  \n",
            "..       ...            ...        ...        ...  \n",
            "995     0.00  United States   Columbus        NaT  \n",
            "996     0.00          China    Chengdu 2018-01-08  \n",
            "997     0.15  United States      Miami        NaT  \n",
            "998     0.00          China    Chengdu        NaT  \n",
            "999     0.31  United States      Miami        NaT  \n",
            "\n",
            "[1000 rows x 14 columns]\n"
          ]
        }
      ]
    },
    {
      "cell_type": "code",
      "source": [
        "#Head\n",
        "data = pd.read_excel(\"ESD.xlsx\")\n",
        "print(data.head(10)) # starting 10 rows we can see"
      ],
      "metadata": {
        "colab": {
          "base_uri": "https://localhost:8080/"
        },
        "id": "b4yiGZwZcLwF",
        "outputId": "13b21768-1d71-4c97-97c8-995242f678e2"
      },
      "execution_count": 3,
      "outputs": [
        {
          "output_type": "stream",
          "name": "stdout",
          "text": [
            "     EEID        Full Name                 Job Title  Department  \\\n",
            "0  E02387      Emily Davis                Sr. Manger          IT   \n",
            "1  E04105    Theodore Dinh       Technical Architect          IT   \n",
            "2  E02572     Luna Sanders                  Director     Finance   \n",
            "3  E02832  Penelope Jordan  Computer Systems Manager          IT   \n",
            "4  E01639        Austin Vo               Sr. Analyst     Finance   \n",
            "5  E00644     Joshua Gupta    Account Representative       Sales   \n",
            "6  E01550      Ruby Barnes                   Manager          IT   \n",
            "7  E04332      Luke Martin                   Analyst     Finance   \n",
            "8  E04533    Easton Bailey                   Manager  Accounting   \n",
            "9  E03838  Madeline Walker               Sr. Analyst     Finance   \n",
            "\n",
            "            Business Unit  Gender  Ethnicity  Age  Hire Date  Annual Salary  \\\n",
            "0  Research & Development  Female      Black   55 2016-04-08         141604   \n",
            "1           Manufacturing    Male      Asian   59 1997-11-29          99975   \n",
            "2     Speciality Products  Female  Caucasian   50 2006-10-26         163099   \n",
            "3           Manufacturing  Female  Caucasian   26 2019-09-27          84913   \n",
            "4           Manufacturing    Male      Asian   55 1995-11-20          95409   \n",
            "5               Corporate    Male      Asian   57 2017-01-24          50994   \n",
            "6               Corporate  Female  Caucasian   27 2020-07-01         119746   \n",
            "7           Manufacturing    Male      Black   25 2020-05-16          41336   \n",
            "8           Manufacturing    Male  Caucasian   29 2019-01-25         113527   \n",
            "9     Speciality Products  Female  Caucasian   34 2018-06-13          77203   \n",
            "\n",
            "   Bonus %        Country       City  Exit Date  \n",
            "0     0.15  United States    Seattle 2021-10-16  \n",
            "1     0.00          China  Chongqing        NaT  \n",
            "2     0.20  United States    Chicago        NaT  \n",
            "3     0.07  United States    Chicago        NaT  \n",
            "4     0.00  United States    Phoenix        NaT  \n",
            "5     0.00          China  Chongqing        NaT  \n",
            "6     0.10  United States    Phoenix        NaT  \n",
            "7     0.00  United States      Miami 2021-05-20  \n",
            "8     0.06  United States     Austin        NaT  \n",
            "9     0.00  United States    Chicago        NaT  \n"
          ]
        }
      ]
    },
    {
      "cell_type": "code",
      "source": [
        "#tail\n",
        "data = pd.read_excel(\"ESD.xlsx\")\n",
        "print(data.tail(10)) # last 10 rows we can see"
      ],
      "metadata": {
        "colab": {
          "base_uri": "https://localhost:8080/"
        },
        "id": "aF8wmvVteAlH",
        "outputId": "f1b75af3-2693-45ef-9b97-5c5c030f6b0b"
      },
      "execution_count": 4,
      "outputs": [
        {
          "output_type": "stream",
          "name": "stdout",
          "text": [
            "       EEID          Full Name             Job Title       Department  \\\n",
            "990  E01578       Anthony Hong            Sr. Manger               IT   \n",
            "991  E03430        Leo Herrera  Sr. Business Partner  Human Resources   \n",
            "992  E03058      Robert Wright   Technical Architect               IT   \n",
            "993  E04762  Audrey Richardson              Director               IT   \n",
            "994  E01148     Scarlett Kumar       Systems Analyst               IT   \n",
            "995  E03094       Wesley Young           Sr. Analyst        Marketing   \n",
            "996  E01909       Lillian Khan               Analyst          Finance   \n",
            "997  E04398        Oliver Yang              Director        Marketing   \n",
            "998  E02521        Lily Nguyen           Sr. Analyst          Finance   \n",
            "999  E03545        Sofia Cheng        Vice President       Accounting   \n",
            "\n",
            "              Business Unit  Gender  Ethnicity  Age  Hire Date  Annual Salary  \\\n",
            "990  Research & Development    Male      Asian   37 2010-11-29         146961   \n",
            "991  Research & Development    Male     Latino   48 1998-04-22          85369   \n",
            "992           Manufacturing    Male  Caucasian   30 2015-06-14          67489   \n",
            "993           Manufacturing  Female  Caucasian   46 2018-10-06         166259   \n",
            "994               Corporate  Female      Asian   55 2009-01-07          47032   \n",
            "995     Speciality Products    Male  Caucasian   33 2016-09-18          98427   \n",
            "996     Speciality Products  Female      Asian   44 2010-05-31          47387   \n",
            "997     Speciality Products    Male      Asian   31 2019-06-10         176710   \n",
            "998     Speciality Products  Female      Asian   33 2012-01-28          95960   \n",
            "999               Corporate  Female      Asian   63 2020-07-26         216195   \n",
            "\n",
            "     Bonus %        Country      City  Exit Date  \n",
            "990     0.11  United States  Columbus        NaT  \n",
            "991     0.00         Brazil    Manaus 2004-11-27  \n",
            "992     0.00  United States   Chicago        NaT  \n",
            "993     0.17  United States   Chicago        NaT  \n",
            "994     0.00  United States  Columbus        NaT  \n",
            "995     0.00  United States  Columbus        NaT  \n",
            "996     0.00          China   Chengdu 2018-01-08  \n",
            "997     0.15  United States     Miami        NaT  \n",
            "998     0.00          China   Chengdu        NaT  \n",
            "999     0.31  United States     Miami        NaT  \n"
          ]
        }
      ]
    },
    {
      "cell_type": "code",
      "source": [
        "#Head  and tail default\n",
        "data = pd.read_excel(\"ESD.xlsx\")\n",
        "print(data.head()) # by default 5 rws will be given if we dnt give anything\n",
        "print(data.tail())"
      ],
      "metadata": {
        "colab": {
          "base_uri": "https://localhost:8080/"
        },
        "id": "09c_36WzeNTJ",
        "outputId": "36f8a338-5f8d-4ed0-8861-3a24c6cd0c3f"
      },
      "execution_count": 6,
      "outputs": [
        {
          "output_type": "stream",
          "name": "stdout",
          "text": [
            "     EEID        Full Name                 Job Title Department  \\\n",
            "0  E02387      Emily Davis                Sr. Manger         IT   \n",
            "1  E04105    Theodore Dinh       Technical Architect         IT   \n",
            "2  E02572     Luna Sanders                  Director    Finance   \n",
            "3  E02832  Penelope Jordan  Computer Systems Manager         IT   \n",
            "4  E01639        Austin Vo               Sr. Analyst    Finance   \n",
            "\n",
            "            Business Unit  Gender  Ethnicity  Age  Hire Date  Annual Salary  \\\n",
            "0  Research & Development  Female      Black   55 2016-04-08         141604   \n",
            "1           Manufacturing    Male      Asian   59 1997-11-29          99975   \n",
            "2     Speciality Products  Female  Caucasian   50 2006-10-26         163099   \n",
            "3           Manufacturing  Female  Caucasian   26 2019-09-27          84913   \n",
            "4           Manufacturing    Male      Asian   55 1995-11-20          95409   \n",
            "\n",
            "   Bonus %        Country       City  Exit Date  \n",
            "0     0.15  United States    Seattle 2021-10-16  \n",
            "1     0.00          China  Chongqing        NaT  \n",
            "2     0.20  United States    Chicago        NaT  \n",
            "3     0.07  United States    Chicago        NaT  \n",
            "4     0.00  United States    Phoenix        NaT  \n",
            "       EEID     Full Name       Job Title  Department        Business Unit  \\\n",
            "995  E03094  Wesley Young     Sr. Analyst   Marketing  Speciality Products   \n",
            "996  E01909  Lillian Khan         Analyst     Finance  Speciality Products   \n",
            "997  E04398   Oliver Yang        Director   Marketing  Speciality Products   \n",
            "998  E02521   Lily Nguyen     Sr. Analyst     Finance  Speciality Products   \n",
            "999  E03545   Sofia Cheng  Vice President  Accounting            Corporate   \n",
            "\n",
            "     Gender  Ethnicity  Age  Hire Date  Annual Salary  Bonus %        Country  \\\n",
            "995    Male  Caucasian   33 2016-09-18          98427     0.00  United States   \n",
            "996  Female      Asian   44 2010-05-31          47387     0.00          China   \n",
            "997    Male      Asian   31 2019-06-10         176710     0.15  United States   \n",
            "998  Female      Asian   33 2012-01-28          95960     0.00          China   \n",
            "999  Female      Asian   63 2020-07-26         216195     0.31  United States   \n",
            "\n",
            "         City  Exit Date  \n",
            "995  Columbus        NaT  \n",
            "996   Chengdu 2018-01-08  \n",
            "997     Miami        NaT  \n",
            "998   Chengdu        NaT  \n",
            "999     Miami        NaT  \n"
          ]
        }
      ]
    },
    {
      "cell_type": "code",
      "source": [
        "#Info()\n",
        "print(data.info())"
      ],
      "metadata": {
        "colab": {
          "base_uri": "https://localhost:8080/"
        },
        "id": "CMO17faKee3n",
        "outputId": "b7942d83-9d25-4b71-bf97-63ab7d4768e2"
      },
      "execution_count": 8,
      "outputs": [
        {
          "output_type": "stream",
          "name": "stdout",
          "text": [
            "<class 'pandas.core.frame.DataFrame'>\n",
            "RangeIndex: 1000 entries, 0 to 999\n",
            "Data columns (total 14 columns):\n",
            " #   Column         Non-Null Count  Dtype         \n",
            "---  ------         --------------  -----         \n",
            " 0   EEID           1000 non-null   object        \n",
            " 1   Full Name      1000 non-null   object        \n",
            " 2   Job Title      1000 non-null   object        \n",
            " 3   Department     1000 non-null   object        \n",
            " 4   Business Unit  1000 non-null   object        \n",
            " 5   Gender         1000 non-null   object        \n",
            " 6   Ethnicity      1000 non-null   object        \n",
            " 7   Age            1000 non-null   int64         \n",
            " 8   Hire Date      1000 non-null   datetime64[ns]\n",
            " 9   Annual Salary  1000 non-null   int64         \n",
            " 10  Bonus %        1000 non-null   float64       \n",
            " 11  Country        1000 non-null   object        \n",
            " 12  City           1000 non-null   object        \n",
            " 13  Exit Date      85 non-null     datetime64[ns]\n",
            "dtypes: datetime64[ns](2), float64(1), int64(2), object(9)\n",
            "memory usage: 109.5+ KB\n",
            "None\n"
          ]
        }
      ]
    },
    {
      "cell_type": "code",
      "source": [
        "#Describe - df.describe()  # Statistical summary for numerical columns\n",
        "print(data.describe())"
      ],
      "metadata": {
        "colab": {
          "base_uri": "https://localhost:8080/"
        },
        "id": "36sxcLzGe4vK",
        "outputId": "60e98f0d-4128-47b8-b0a8-a6f5346aba3c"
      },
      "execution_count": 9,
      "outputs": [
        {
          "output_type": "stream",
          "name": "stdout",
          "text": [
            "               Age                   Hire Date  Annual Salary      Bonus %  \\\n",
            "count  1000.000000                        1000    1000.000000  1000.000000   \n",
            "mean     44.382000  2012-04-07 02:54:14.400000  113217.365000     0.088660   \n",
            "min      25.000000         1992-01-09 00:00:00   40063.000000     0.000000   \n",
            "25%      35.000000         2007-02-14 00:00:00   71430.250000     0.000000   \n",
            "50%      45.000000         2014-02-15 12:00:00   96557.000000     0.000000   \n",
            "75%      54.000000         2018-06-22 00:00:00  150782.250000     0.150000   \n",
            "max      65.000000         2021-12-26 00:00:00  258498.000000     0.400000   \n",
            "std      11.246981                         NaN   53545.985644     0.117856   \n",
            "\n",
            "                           Exit Date  \n",
            "count                             85  \n",
            "mean   2016-11-02 18:04:14.117647104  \n",
            "min              1994-12-18 00:00:00  \n",
            "25%              2014-12-25 00:00:00  \n",
            "50%              2019-05-23 00:00:00  \n",
            "75%              2021-04-09 00:00:00  \n",
            "max              2022-08-17 00:00:00  \n",
            "std                              NaN  \n"
          ]
        }
      ]
    },
    {
      "cell_type": "code",
      "source": [
        "print(data.isnull()) #isnull()tell where null values gives true"
      ],
      "metadata": {
        "colab": {
          "base_uri": "https://localhost:8080/"
        },
        "id": "9ejBml86fN41",
        "outputId": "015e5308-7e64-4e48-d239-3b317da3dfcd"
      },
      "execution_count": 10,
      "outputs": [
        {
          "output_type": "stream",
          "name": "stdout",
          "text": [
            "      EEID  Full Name  Job Title  Department  Business Unit  Gender  \\\n",
            "0    False      False      False       False          False   False   \n",
            "1    False      False      False       False          False   False   \n",
            "2    False      False      False       False          False   False   \n",
            "3    False      False      False       False          False   False   \n",
            "4    False      False      False       False          False   False   \n",
            "..     ...        ...        ...         ...            ...     ...   \n",
            "995  False      False      False       False          False   False   \n",
            "996  False      False      False       False          False   False   \n",
            "997  False      False      False       False          False   False   \n",
            "998  False      False      False       False          False   False   \n",
            "999  False      False      False       False          False   False   \n",
            "\n",
            "     Ethnicity    Age  Hire Date  Annual Salary  Bonus %  Country   City  \\\n",
            "0        False  False      False          False    False    False  False   \n",
            "1        False  False      False          False    False    False  False   \n",
            "2        False  False      False          False    False    False  False   \n",
            "3        False  False      False          False    False    False  False   \n",
            "4        False  False      False          False    False    False  False   \n",
            "..         ...    ...        ...            ...      ...      ...    ...   \n",
            "995      False  False      False          False    False    False  False   \n",
            "996      False  False      False          False    False    False  False   \n",
            "997      False  False      False          False    False    False  False   \n",
            "998      False  False      False          False    False    False  False   \n",
            "999      False  False      False          False    False    False  False   \n",
            "\n",
            "     Exit Date  \n",
            "0        False  \n",
            "1         True  \n",
            "2         True  \n",
            "3         True  \n",
            "4         True  \n",
            "..         ...  \n",
            "995       True  \n",
            "996      False  \n",
            "997       True  \n",
            "998       True  \n",
            "999       True  \n",
            "\n",
            "[1000 rows x 14 columns]\n"
          ]
        }
      ]
    },
    {
      "cell_type": "code",
      "source": [
        "print(data.isnull().sum()) #isnull().sum() tells column wise null value count;"
      ],
      "metadata": {
        "colab": {
          "base_uri": "https://localhost:8080/"
        },
        "id": "kl-qurJ3pu_1",
        "outputId": "10541663-efa2-4cb5-9083-af022653d633"
      },
      "execution_count": 11,
      "outputs": [
        {
          "output_type": "stream",
          "name": "stdout",
          "text": [
            "EEID               0\n",
            "Full Name          0\n",
            "Job Title          0\n",
            "Department         0\n",
            "Business Unit      0\n",
            "Gender             0\n",
            "Ethnicity          0\n",
            "Age                0\n",
            "Hire Date          0\n",
            "Annual Salary      0\n",
            "Bonus %            0\n",
            "Country            0\n",
            "City               0\n",
            "Exit Date        915\n",
            "dtype: int64\n"
          ]
        }
      ]
    },
    {
      "cell_type": "markdown",
      "source": [
        "#**Accessing columns and rows**"
      ],
      "metadata": {
        "id": "8xCKGl4trzuR"
      }
    },
    {
      "cell_type": "code",
      "source": [
        "# df['column_name']  # Access a column\n",
        "# df[['col1', 'col2']]  # Access multiple columns\n",
        "# df.iloc[0]  # Access a row by index\n",
        "# df.loc[0, 'column_name']  # Access a specific cell by label\n",
        "data['Department']"
      ],
      "metadata": {
        "colab": {
          "base_uri": "https://localhost:8080/",
          "height": 458
        },
        "id": "U4od0lYQqIJD",
        "outputId": "620e7191-eedc-4af7-a423-b897e1d3b36a"
      },
      "execution_count": 12,
      "outputs": [
        {
          "output_type": "execute_result",
          "data": {
            "text/plain": [
              "0              IT\n",
              "1              IT\n",
              "2         Finance\n",
              "3              IT\n",
              "4         Finance\n",
              "          ...    \n",
              "995     Marketing\n",
              "996       Finance\n",
              "997     Marketing\n",
              "998       Finance\n",
              "999    Accounting\n",
              "Name: Department, Length: 1000, dtype: object"
            ],
            "text/html": [
              "<div>\n",
              "<style scoped>\n",
              "    .dataframe tbody tr th:only-of-type {\n",
              "        vertical-align: middle;\n",
              "    }\n",
              "\n",
              "    .dataframe tbody tr th {\n",
              "        vertical-align: top;\n",
              "    }\n",
              "\n",
              "    .dataframe thead th {\n",
              "        text-align: right;\n",
              "    }\n",
              "</style>\n",
              "<table border=\"1\" class=\"dataframe\">\n",
              "  <thead>\n",
              "    <tr style=\"text-align: right;\">\n",
              "      <th></th>\n",
              "      <th>Department</th>\n",
              "    </tr>\n",
              "  </thead>\n",
              "  <tbody>\n",
              "    <tr>\n",
              "      <th>0</th>\n",
              "      <td>IT</td>\n",
              "    </tr>\n",
              "    <tr>\n",
              "      <th>1</th>\n",
              "      <td>IT</td>\n",
              "    </tr>\n",
              "    <tr>\n",
              "      <th>2</th>\n",
              "      <td>Finance</td>\n",
              "    </tr>\n",
              "    <tr>\n",
              "      <th>3</th>\n",
              "      <td>IT</td>\n",
              "    </tr>\n",
              "    <tr>\n",
              "      <th>4</th>\n",
              "      <td>Finance</td>\n",
              "    </tr>\n",
              "    <tr>\n",
              "      <th>...</th>\n",
              "      <td>...</td>\n",
              "    </tr>\n",
              "    <tr>\n",
              "      <th>995</th>\n",
              "      <td>Marketing</td>\n",
              "    </tr>\n",
              "    <tr>\n",
              "      <th>996</th>\n",
              "      <td>Finance</td>\n",
              "    </tr>\n",
              "    <tr>\n",
              "      <th>997</th>\n",
              "      <td>Marketing</td>\n",
              "    </tr>\n",
              "    <tr>\n",
              "      <th>998</th>\n",
              "      <td>Finance</td>\n",
              "    </tr>\n",
              "    <tr>\n",
              "      <th>999</th>\n",
              "      <td>Accounting</td>\n",
              "    </tr>\n",
              "  </tbody>\n",
              "</table>\n",
              "<p>1000 rows × 1 columns</p>\n",
              "</div><br><label><b>dtype:</b> object</label>"
            ]
          },
          "metadata": {},
          "execution_count": 12
        }
      ]
    },
    {
      "cell_type": "code",
      "source": [
        "data[['Department','Age']]\n"
      ],
      "metadata": {
        "colab": {
          "base_uri": "https://localhost:8080/",
          "height": 424
        },
        "id": "-XWWYfpLrIbS",
        "outputId": "5852d8b4-c10e-4a37-939e-3b0dff565c7a"
      },
      "execution_count": 15,
      "outputs": [
        {
          "output_type": "execute_result",
          "data": {
            "text/plain": [
              "     Department  Age\n",
              "0            IT   55\n",
              "1            IT   59\n",
              "2       Finance   50\n",
              "3            IT   26\n",
              "4       Finance   55\n",
              "..          ...  ...\n",
              "995   Marketing   33\n",
              "996     Finance   44\n",
              "997   Marketing   31\n",
              "998     Finance   33\n",
              "999  Accounting   63\n",
              "\n",
              "[1000 rows x 2 columns]"
            ],
            "text/html": [
              "\n",
              "  <div id=\"df-aef5d6bb-e4f8-4afa-a14d-c4a9f754fcbe\" class=\"colab-df-container\">\n",
              "    <div>\n",
              "<style scoped>\n",
              "    .dataframe tbody tr th:only-of-type {\n",
              "        vertical-align: middle;\n",
              "    }\n",
              "\n",
              "    .dataframe tbody tr th {\n",
              "        vertical-align: top;\n",
              "    }\n",
              "\n",
              "    .dataframe thead th {\n",
              "        text-align: right;\n",
              "    }\n",
              "</style>\n",
              "<table border=\"1\" class=\"dataframe\">\n",
              "  <thead>\n",
              "    <tr style=\"text-align: right;\">\n",
              "      <th></th>\n",
              "      <th>Department</th>\n",
              "      <th>Age</th>\n",
              "    </tr>\n",
              "  </thead>\n",
              "  <tbody>\n",
              "    <tr>\n",
              "      <th>0</th>\n",
              "      <td>IT</td>\n",
              "      <td>55</td>\n",
              "    </tr>\n",
              "    <tr>\n",
              "      <th>1</th>\n",
              "      <td>IT</td>\n",
              "      <td>59</td>\n",
              "    </tr>\n",
              "    <tr>\n",
              "      <th>2</th>\n",
              "      <td>Finance</td>\n",
              "      <td>50</td>\n",
              "    </tr>\n",
              "    <tr>\n",
              "      <th>3</th>\n",
              "      <td>IT</td>\n",
              "      <td>26</td>\n",
              "    </tr>\n",
              "    <tr>\n",
              "      <th>4</th>\n",
              "      <td>Finance</td>\n",
              "      <td>55</td>\n",
              "    </tr>\n",
              "    <tr>\n",
              "      <th>...</th>\n",
              "      <td>...</td>\n",
              "      <td>...</td>\n",
              "    </tr>\n",
              "    <tr>\n",
              "      <th>995</th>\n",
              "      <td>Marketing</td>\n",
              "      <td>33</td>\n",
              "    </tr>\n",
              "    <tr>\n",
              "      <th>996</th>\n",
              "      <td>Finance</td>\n",
              "      <td>44</td>\n",
              "    </tr>\n",
              "    <tr>\n",
              "      <th>997</th>\n",
              "      <td>Marketing</td>\n",
              "      <td>31</td>\n",
              "    </tr>\n",
              "    <tr>\n",
              "      <th>998</th>\n",
              "      <td>Finance</td>\n",
              "      <td>33</td>\n",
              "    </tr>\n",
              "    <tr>\n",
              "      <th>999</th>\n",
              "      <td>Accounting</td>\n",
              "      <td>63</td>\n",
              "    </tr>\n",
              "  </tbody>\n",
              "</table>\n",
              "<p>1000 rows × 2 columns</p>\n",
              "</div>\n",
              "    <div class=\"colab-df-buttons\">\n",
              "\n",
              "  <div class=\"colab-df-container\">\n",
              "    <button class=\"colab-df-convert\" onclick=\"convertToInteractive('df-aef5d6bb-e4f8-4afa-a14d-c4a9f754fcbe')\"\n",
              "            title=\"Convert this dataframe to an interactive table.\"\n",
              "            style=\"display:none;\">\n",
              "\n",
              "  <svg xmlns=\"http://www.w3.org/2000/svg\" height=\"24px\" viewBox=\"0 -960 960 960\">\n",
              "    <path d=\"M120-120v-720h720v720H120Zm60-500h600v-160H180v160Zm220 220h160v-160H400v160Zm0 220h160v-160H400v160ZM180-400h160v-160H180v160Zm440 0h160v-160H620v160ZM180-180h160v-160H180v160Zm440 0h160v-160H620v160Z\"/>\n",
              "  </svg>\n",
              "    </button>\n",
              "\n",
              "  <style>\n",
              "    .colab-df-container {\n",
              "      display:flex;\n",
              "      gap: 12px;\n",
              "    }\n",
              "\n",
              "    .colab-df-convert {\n",
              "      background-color: #E8F0FE;\n",
              "      border: none;\n",
              "      border-radius: 50%;\n",
              "      cursor: pointer;\n",
              "      display: none;\n",
              "      fill: #1967D2;\n",
              "      height: 32px;\n",
              "      padding: 0 0 0 0;\n",
              "      width: 32px;\n",
              "    }\n",
              "\n",
              "    .colab-df-convert:hover {\n",
              "      background-color: #E2EBFA;\n",
              "      box-shadow: 0px 1px 2px rgba(60, 64, 67, 0.3), 0px 1px 3px 1px rgba(60, 64, 67, 0.15);\n",
              "      fill: #174EA6;\n",
              "    }\n",
              "\n",
              "    .colab-df-buttons div {\n",
              "      margin-bottom: 4px;\n",
              "    }\n",
              "\n",
              "    [theme=dark] .colab-df-convert {\n",
              "      background-color: #3B4455;\n",
              "      fill: #D2E3FC;\n",
              "    }\n",
              "\n",
              "    [theme=dark] .colab-df-convert:hover {\n",
              "      background-color: #434B5C;\n",
              "      box-shadow: 0px 1px 3px 1px rgba(0, 0, 0, 0.15);\n",
              "      filter: drop-shadow(0px 1px 2px rgba(0, 0, 0, 0.3));\n",
              "      fill: #FFFFFF;\n",
              "    }\n",
              "  </style>\n",
              "\n",
              "    <script>\n",
              "      const buttonEl =\n",
              "        document.querySelector('#df-aef5d6bb-e4f8-4afa-a14d-c4a9f754fcbe button.colab-df-convert');\n",
              "      buttonEl.style.display =\n",
              "        google.colab.kernel.accessAllowed ? 'block' : 'none';\n",
              "\n",
              "      async function convertToInteractive(key) {\n",
              "        const element = document.querySelector('#df-aef5d6bb-e4f8-4afa-a14d-c4a9f754fcbe');\n",
              "        const dataTable =\n",
              "          await google.colab.kernel.invokeFunction('convertToInteractive',\n",
              "                                                    [key], {});\n",
              "        if (!dataTable) return;\n",
              "\n",
              "        const docLinkHtml = 'Like what you see? Visit the ' +\n",
              "          '<a target=\"_blank\" href=https://colab.research.google.com/notebooks/data_table.ipynb>data table notebook</a>'\n",
              "          + ' to learn more about interactive tables.';\n",
              "        element.innerHTML = '';\n",
              "        dataTable['output_type'] = 'display_data';\n",
              "        await google.colab.output.renderOutput(dataTable, element);\n",
              "        const docLink = document.createElement('div');\n",
              "        docLink.innerHTML = docLinkHtml;\n",
              "        element.appendChild(docLink);\n",
              "      }\n",
              "    </script>\n",
              "  </div>\n",
              "\n",
              "\n",
              "<div id=\"df-cb076142-7f70-44c4-a10b-de65686b1fe5\">\n",
              "  <button class=\"colab-df-quickchart\" onclick=\"quickchart('df-cb076142-7f70-44c4-a10b-de65686b1fe5')\"\n",
              "            title=\"Suggest charts\"\n",
              "            style=\"display:none;\">\n",
              "\n",
              "<svg xmlns=\"http://www.w3.org/2000/svg\" height=\"24px\"viewBox=\"0 0 24 24\"\n",
              "     width=\"24px\">\n",
              "    <g>\n",
              "        <path d=\"M19 3H5c-1.1 0-2 .9-2 2v14c0 1.1.9 2 2 2h14c1.1 0 2-.9 2-2V5c0-1.1-.9-2-2-2zM9 17H7v-7h2v7zm4 0h-2V7h2v10zm4 0h-2v-4h2v4z\"/>\n",
              "    </g>\n",
              "</svg>\n",
              "  </button>\n",
              "\n",
              "<style>\n",
              "  .colab-df-quickchart {\n",
              "      --bg-color: #E8F0FE;\n",
              "      --fill-color: #1967D2;\n",
              "      --hover-bg-color: #E2EBFA;\n",
              "      --hover-fill-color: #174EA6;\n",
              "      --disabled-fill-color: #AAA;\n",
              "      --disabled-bg-color: #DDD;\n",
              "  }\n",
              "\n",
              "  [theme=dark] .colab-df-quickchart {\n",
              "      --bg-color: #3B4455;\n",
              "      --fill-color: #D2E3FC;\n",
              "      --hover-bg-color: #434B5C;\n",
              "      --hover-fill-color: #FFFFFF;\n",
              "      --disabled-bg-color: #3B4455;\n",
              "      --disabled-fill-color: #666;\n",
              "  }\n",
              "\n",
              "  .colab-df-quickchart {\n",
              "    background-color: var(--bg-color);\n",
              "    border: none;\n",
              "    border-radius: 50%;\n",
              "    cursor: pointer;\n",
              "    display: none;\n",
              "    fill: var(--fill-color);\n",
              "    height: 32px;\n",
              "    padding: 0;\n",
              "    width: 32px;\n",
              "  }\n",
              "\n",
              "  .colab-df-quickchart:hover {\n",
              "    background-color: var(--hover-bg-color);\n",
              "    box-shadow: 0 1px 2px rgba(60, 64, 67, 0.3), 0 1px 3px 1px rgba(60, 64, 67, 0.15);\n",
              "    fill: var(--button-hover-fill-color);\n",
              "  }\n",
              "\n",
              "  .colab-df-quickchart-complete:disabled,\n",
              "  .colab-df-quickchart-complete:disabled:hover {\n",
              "    background-color: var(--disabled-bg-color);\n",
              "    fill: var(--disabled-fill-color);\n",
              "    box-shadow: none;\n",
              "  }\n",
              "\n",
              "  .colab-df-spinner {\n",
              "    border: 2px solid var(--fill-color);\n",
              "    border-color: transparent;\n",
              "    border-bottom-color: var(--fill-color);\n",
              "    animation:\n",
              "      spin 1s steps(1) infinite;\n",
              "  }\n",
              "\n",
              "  @keyframes spin {\n",
              "    0% {\n",
              "      border-color: transparent;\n",
              "      border-bottom-color: var(--fill-color);\n",
              "      border-left-color: var(--fill-color);\n",
              "    }\n",
              "    20% {\n",
              "      border-color: transparent;\n",
              "      border-left-color: var(--fill-color);\n",
              "      border-top-color: var(--fill-color);\n",
              "    }\n",
              "    30% {\n",
              "      border-color: transparent;\n",
              "      border-left-color: var(--fill-color);\n",
              "      border-top-color: var(--fill-color);\n",
              "      border-right-color: var(--fill-color);\n",
              "    }\n",
              "    40% {\n",
              "      border-color: transparent;\n",
              "      border-right-color: var(--fill-color);\n",
              "      border-top-color: var(--fill-color);\n",
              "    }\n",
              "    60% {\n",
              "      border-color: transparent;\n",
              "      border-right-color: var(--fill-color);\n",
              "    }\n",
              "    80% {\n",
              "      border-color: transparent;\n",
              "      border-right-color: var(--fill-color);\n",
              "      border-bottom-color: var(--fill-color);\n",
              "    }\n",
              "    90% {\n",
              "      border-color: transparent;\n",
              "      border-bottom-color: var(--fill-color);\n",
              "    }\n",
              "  }\n",
              "</style>\n",
              "\n",
              "  <script>\n",
              "    async function quickchart(key) {\n",
              "      const quickchartButtonEl =\n",
              "        document.querySelector('#' + key + ' button');\n",
              "      quickchartButtonEl.disabled = true;  // To prevent multiple clicks.\n",
              "      quickchartButtonEl.classList.add('colab-df-spinner');\n",
              "      try {\n",
              "        const charts = await google.colab.kernel.invokeFunction(\n",
              "            'suggestCharts', [key], {});\n",
              "      } catch (error) {\n",
              "        console.error('Error during call to suggestCharts:', error);\n",
              "      }\n",
              "      quickchartButtonEl.classList.remove('colab-df-spinner');\n",
              "      quickchartButtonEl.classList.add('colab-df-quickchart-complete');\n",
              "    }\n",
              "    (() => {\n",
              "      let quickchartButtonEl =\n",
              "        document.querySelector('#df-cb076142-7f70-44c4-a10b-de65686b1fe5 button');\n",
              "      quickchartButtonEl.style.display =\n",
              "        google.colab.kernel.accessAllowed ? 'block' : 'none';\n",
              "    })();\n",
              "  </script>\n",
              "</div>\n",
              "\n",
              "    </div>\n",
              "  </div>\n"
            ],
            "application/vnd.google.colaboratory.intrinsic+json": {
              "type": "dataframe",
              "summary": "{\n  \"name\": \"data[['Department','Age']]\",\n  \"rows\": 1000,\n  \"fields\": [\n    {\n      \"column\": \"Department\",\n      \"properties\": {\n        \"dtype\": \"category\",\n        \"num_unique_values\": 7,\n        \"samples\": [\n          \"IT\",\n          \"Finance\",\n          \"Engineering\"\n        ],\n        \"semantic_type\": \"\",\n        \"description\": \"\"\n      }\n    },\n    {\n      \"column\": \"Age\",\n      \"properties\": {\n        \"dtype\": \"number\",\n        \"std\": 11,\n        \"min\": 25,\n        \"max\": 65,\n        \"num_unique_values\": 41,\n        \"samples\": [\n          32,\n          65,\n          34\n        ],\n        \"semantic_type\": \"\",\n        \"description\": \"\"\n      }\n    }\n  ]\n}"
            }
          },
          "metadata": {},
          "execution_count": 15
        }
      ]
    },
    {
      "cell_type": "code",
      "source": [
        "data.iloc[0]"
      ],
      "metadata": {
        "colab": {
          "base_uri": "https://localhost:8080/",
          "height": 523
        },
        "id": "gGksa2uMrPLJ",
        "outputId": "a76e8b32-a445-4b12-ae2f-e207293144da"
      },
      "execution_count": 16,
      "outputs": [
        {
          "output_type": "execute_result",
          "data": {
            "text/plain": [
              "EEID                             E02387\n",
              "Full Name                   Emily Davis\n",
              "Job Title                    Sr. Manger\n",
              "Department                           IT\n",
              "Business Unit    Research & Development\n",
              "Gender                           Female\n",
              "Ethnicity                         Black\n",
              "Age                                  55\n",
              "Hire Date           2016-04-08 00:00:00\n",
              "Annual Salary                    141604\n",
              "Bonus %                            0.15\n",
              "Country                   United States\n",
              "City                            Seattle\n",
              "Exit Date           2021-10-16 00:00:00\n",
              "Name: 0, dtype: object"
            ],
            "text/html": [
              "<div>\n",
              "<style scoped>\n",
              "    .dataframe tbody tr th:only-of-type {\n",
              "        vertical-align: middle;\n",
              "    }\n",
              "\n",
              "    .dataframe tbody tr th {\n",
              "        vertical-align: top;\n",
              "    }\n",
              "\n",
              "    .dataframe thead th {\n",
              "        text-align: right;\n",
              "    }\n",
              "</style>\n",
              "<table border=\"1\" class=\"dataframe\">\n",
              "  <thead>\n",
              "    <tr style=\"text-align: right;\">\n",
              "      <th></th>\n",
              "      <th>0</th>\n",
              "    </tr>\n",
              "  </thead>\n",
              "  <tbody>\n",
              "    <tr>\n",
              "      <th>EEID</th>\n",
              "      <td>E02387</td>\n",
              "    </tr>\n",
              "    <tr>\n",
              "      <th>Full Name</th>\n",
              "      <td>Emily Davis</td>\n",
              "    </tr>\n",
              "    <tr>\n",
              "      <th>Job Title</th>\n",
              "      <td>Sr. Manger</td>\n",
              "    </tr>\n",
              "    <tr>\n",
              "      <th>Department</th>\n",
              "      <td>IT</td>\n",
              "    </tr>\n",
              "    <tr>\n",
              "      <th>Business Unit</th>\n",
              "      <td>Research &amp; Development</td>\n",
              "    </tr>\n",
              "    <tr>\n",
              "      <th>Gender</th>\n",
              "      <td>Female</td>\n",
              "    </tr>\n",
              "    <tr>\n",
              "      <th>Ethnicity</th>\n",
              "      <td>Black</td>\n",
              "    </tr>\n",
              "    <tr>\n",
              "      <th>Age</th>\n",
              "      <td>55</td>\n",
              "    </tr>\n",
              "    <tr>\n",
              "      <th>Hire Date</th>\n",
              "      <td>2016-04-08 00:00:00</td>\n",
              "    </tr>\n",
              "    <tr>\n",
              "      <th>Annual Salary</th>\n",
              "      <td>141604</td>\n",
              "    </tr>\n",
              "    <tr>\n",
              "      <th>Bonus %</th>\n",
              "      <td>0.15</td>\n",
              "    </tr>\n",
              "    <tr>\n",
              "      <th>Country</th>\n",
              "      <td>United States</td>\n",
              "    </tr>\n",
              "    <tr>\n",
              "      <th>City</th>\n",
              "      <td>Seattle</td>\n",
              "    </tr>\n",
              "    <tr>\n",
              "      <th>Exit Date</th>\n",
              "      <td>2021-10-16 00:00:00</td>\n",
              "    </tr>\n",
              "  </tbody>\n",
              "</table>\n",
              "</div><br><label><b>dtype:</b> object</label>"
            ]
          },
          "metadata": {},
          "execution_count": 16
        }
      ]
    },
    {
      "cell_type": "code",
      "source": [
        "data.loc[55,'Department']"
      ],
      "metadata": {
        "colab": {
          "base_uri": "https://localhost:8080/",
          "height": 35
        },
        "id": "1E5stzZVrbyG",
        "outputId": "b6835c84-e172-4795-b318-669cdb99f920"
      },
      "execution_count": 21,
      "outputs": [
        {
          "output_type": "execute_result",
          "data": {
            "text/plain": [
              "'Engineering'"
            ],
            "application/vnd.google.colaboratory.intrinsic+json": {
              "type": "string"
            }
          },
          "metadata": {},
          "execution_count": 21
        }
      ]
    },
    {
      "cell_type": "code",
      "source": [],
      "metadata": {
        "id": "ZtIHCHlZrnID"
      },
      "execution_count": null,
      "outputs": []
    }
  ]
}