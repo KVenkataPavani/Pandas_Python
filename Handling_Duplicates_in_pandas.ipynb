{
  "nbformat": 4,
  "nbformat_minor": 0,
  "metadata": {
    "colab": {
      "provenance": [],
      "authorship_tag": "ABX9TyO3S/ne57XMjlICMXtDeOer",
      "include_colab_link": true
    },
    "kernelspec": {
      "name": "python3",
      "display_name": "Python 3"
    },
    "language_info": {
      "name": "python"
    }
  },
  "cells": [
    {
      "cell_type": "markdown",
      "metadata": {
        "id": "view-in-github",
        "colab_type": "text"
      },
      "source": [
        "<a href=\"https://colab.research.google.com/github/KVenkataPavani/Pandas_Python/blob/main/Handling_Duplicates_in_pandas.ipynb\" target=\"_parent\"><img src=\"https://colab.research.google.com/assets/colab-badge.svg\" alt=\"Open In Colab\"/></a>"
      ]
    },
    {
      "cell_type": "markdown",
      "source": [
        "#**Handling Duplicates**"
      ],
      "metadata": {
        "id": "CreBw3r3sgmI"
      }
    },
    {
      "cell_type": "code",
      "execution_count": 1,
      "metadata": {
        "id": "ukd0aNzksFve"
      },
      "outputs": [],
      "source": [
        "import pandas as pd"
      ]
    },
    {
      "cell_type": "code",
      "source": [
        "data = pd.read_csv(\"company1.csv\")"
      ],
      "metadata": {
        "id": "roVpbwYLsplM"
      },
      "execution_count": 3,
      "outputs": []
    },
    {
      "cell_type": "code",
      "source": [
        "print((data))"
      ],
      "metadata": {
        "id": "I2qAdZ-6tMsD",
        "colab": {
          "base_uri": "https://localhost:8080/"
        },
        "outputId": "9d692b9f-c6e7-44ad-e873-cc98563becb2"
      },
      "execution_count": 4,
      "outputs": [
        {
          "output_type": "stream",
          "name": "stdout",
          "text": [
            "    EEID      Name gender   salary\n",
            "0  EMP01    ayushi      F      NaN\n",
            "1  EMP02     rohit      M  25000.0\n",
            "2  EMP03  pranjali    NaN  27000.0\n",
            "3  EMP01    ayushi      F  20000.0\n",
            "4  EMP05       NaN      M  25000.0\n",
            "5  EMP06     rohit      M      NaN\n",
            "6  EMP02     rohit      M  25000.0\n"
          ]
        }
      ]
    },
    {
      "cell_type": "code",
      "source": [
        "#to extract duplicate values\n",
        "print(data.duplicated())"
      ],
      "metadata": {
        "id": "M2YMG_5AzG-R",
        "colab": {
          "base_uri": "https://localhost:8080/"
        },
        "outputId": "a473bdc7-750b-44ab-8573-94c5eaad9945"
      },
      "execution_count": 5,
      "outputs": [
        {
          "output_type": "stream",
          "name": "stdout",
          "text": [
            "0    False\n",
            "1    False\n",
            "2    False\n",
            "3    False\n",
            "4    False\n",
            "5    False\n",
            "6     True\n",
            "dtype: bool\n"
          ]
        }
      ]
    },
    {
      "cell_type": "code",
      "source": [
        "#to extract column duplicate values\n",
        "print(data[\"EEID\"].duplicated().sum())"
      ],
      "metadata": {
        "colab": {
          "base_uri": "https://localhost:8080/"
        },
        "id": "_SZ3eRQRzsjS",
        "outputId": "5cfb6a25-7c3c-40bc-db05-4391002c525a"
      },
      "execution_count": 9,
      "outputs": [
        {
          "output_type": "stream",
          "name": "stdout",
          "text": [
            "2\n"
          ]
        }
      ]
    },
    {
      "cell_type": "code",
      "source": [
        "#remove duplicate values\n",
        "print(data.drop_duplicates())"
      ],
      "metadata": {
        "colab": {
          "base_uri": "https://localhost:8080/"
        },
        "id": "MlNOvFLW0CoL",
        "outputId": "987406af-8af4-4711-b90b-845a47778487"
      },
      "execution_count": 10,
      "outputs": [
        {
          "output_type": "stream",
          "name": "stdout",
          "text": [
            "    EEID      Name gender   salary\n",
            "0  EMP01    ayushi      F      NaN\n",
            "1  EMP02     rohit      M  25000.0\n",
            "2  EMP03  pranjali    NaN  27000.0\n",
            "3  EMP01    ayushi      F  20000.0\n",
            "4  EMP05       NaN      M  25000.0\n",
            "5  EMP06     rohit      M      NaN\n"
          ]
        }
      ]
    },
    {
      "cell_type": "code",
      "source": [
        "#remove duplicate values\n",
        "print(data.drop_duplicates(\"EEID\"))"
      ],
      "metadata": {
        "colab": {
          "base_uri": "https://localhost:8080/"
        },
        "id": "JyJVtM1l0mSW",
        "outputId": "07b5354a-2eae-4def-f484-3631339300e4"
      },
      "execution_count": 11,
      "outputs": [
        {
          "output_type": "stream",
          "name": "stdout",
          "text": [
            "    EEID      Name gender   salary\n",
            "0  EMP01    ayushi      F      NaN\n",
            "1  EMP02     rohit      M  25000.0\n",
            "2  EMP03  pranjali    NaN  27000.0\n",
            "4  EMP05       NaN      M  25000.0\n",
            "5  EMP06     rohit      M      NaN\n"
          ]
        }
      ]
    },
    {
      "cell_type": "code",
      "source": [
        "#remove duplicate values\n",
        "print(data.drop_duplicates(\"Name\"))"
      ],
      "metadata": {
        "colab": {
          "base_uri": "https://localhost:8080/"
        },
        "id": "xgJIvWPI0uvt",
        "outputId": "1f68d8e4-b5b4-43f8-e856-baacdb5ce770"
      },
      "execution_count": 12,
      "outputs": [
        {
          "output_type": "stream",
          "name": "stdout",
          "text": [
            "    EEID      Name gender   salary\n",
            "0  EMP01    ayushi      F      NaN\n",
            "1  EMP02     rohit      M  25000.0\n",
            "2  EMP03  pranjali    NaN  27000.0\n",
            "4  EMP05       NaN      M  25000.0\n"
          ]
        }
      ]
    }
  ]
}