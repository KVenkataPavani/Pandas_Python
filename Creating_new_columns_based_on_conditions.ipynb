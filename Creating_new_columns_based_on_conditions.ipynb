{
  "nbformat": 4,
  "nbformat_minor": 0,
  "metadata": {
    "colab": {
      "provenance": [],
      "authorship_tag": "ABX9TyNHOkxRGKBfgzF/Z+MPEdaC",
      "include_colab_link": true
    },
    "kernelspec": {
      "name": "python3",
      "display_name": "Python 3"
    },
    "language_info": {
      "name": "python"
    }
  },
  "cells": [
    {
      "cell_type": "markdown",
      "metadata": {
        "id": "view-in-github",
        "colab_type": "text"
      },
      "source": [
        "<a href=\"https://colab.research.google.com/github/KVenkataPavani/Pandas_Python/blob/main/Creating_new_columns_based_on_conditions.ipynb\" target=\"_parent\"><img src=\"https://colab.research.google.com/assets/colab-badge.svg\" alt=\"Open In Colab\"/></a>"
      ]
    },
    {
      "cell_type": "code",
      "execution_count": null,
      "metadata": {
        "id": "lhemj0Gu8yAD"
      },
      "outputs": [],
      "source": [
        "import pandas as pd"
      ]
    },
    {
      "cell_type": "code",
      "source": [
        "data = pd.read_excel(\"ESD.xlsx\")\n",
        "print(data)"
      ],
      "metadata": {
        "colab": {
          "base_uri": "https://localhost:8080/"
        },
        "id": "9dhAmYpJ9UQU",
        "outputId": "995326c9-bfb2-41b2-b1b8-61b4a56c14fe"
      },
      "execution_count": null,
      "outputs": [
        {
          "output_type": "stream",
          "name": "stdout",
          "text": [
            "       EEID        Full Name                 Job Title  Department  \\\n",
            "0    E02387      Emily Davis                Sr. Manger          IT   \n",
            "1    E04105    Theodore Dinh       Technical Architect          IT   \n",
            "2    E02572     Luna Sanders                  Director     Finance   \n",
            "3    E02832  Penelope Jordan  Computer Systems Manager          IT   \n",
            "4    E01639        Austin Vo               Sr. Analyst     Finance   \n",
            "..      ...              ...                       ...         ...   \n",
            "995  E03094     Wesley Young               Sr. Analyst   Marketing   \n",
            "996  E01909     Lillian Khan                   Analyst     Finance   \n",
            "997  E04398      Oliver Yang                  Director   Marketing   \n",
            "998  E02521      Lily Nguyen               Sr. Analyst     Finance   \n",
            "999  E03545      Sofia Cheng            Vice President  Accounting   \n",
            "\n",
            "              Business Unit  Gender  Ethnicity  Age  Hire Date  Annual Salary  \\\n",
            "0    Research & Development  Female      Black   55 2016-04-08         141604   \n",
            "1             Manufacturing    Male      Asian   59 1997-11-29          99975   \n",
            "2       Speciality Products  Female  Caucasian   50 2006-10-26         163099   \n",
            "3             Manufacturing  Female  Caucasian   26 2019-09-27          84913   \n",
            "4             Manufacturing    Male      Asian   55 1995-11-20          95409   \n",
            "..                      ...     ...        ...  ...        ...            ...   \n",
            "995     Speciality Products    Male  Caucasian   33 2016-09-18          98427   \n",
            "996     Speciality Products  Female      Asian   44 2010-05-31          47387   \n",
            "997     Speciality Products    Male      Asian   31 2019-06-10         176710   \n",
            "998     Speciality Products  Female      Asian   33 2012-01-28          95960   \n",
            "999               Corporate  Female      Asian   63 2020-07-26         216195   \n",
            "\n",
            "     Bonus %        Country       City  Exit Date  \n",
            "0       0.15  United States    Seattle 2021-10-16  \n",
            "1       0.00          China  Chongqing        NaT  \n",
            "2       0.20  United States    Chicago        NaT  \n",
            "3       0.07  United States    Chicago        NaT  \n",
            "4       0.00  United States    Phoenix        NaT  \n",
            "..       ...            ...        ...        ...  \n",
            "995     0.00  United States   Columbus        NaT  \n",
            "996     0.00          China    Chengdu 2018-01-08  \n",
            "997     0.15  United States      Miami        NaT  \n",
            "998     0.00          China    Chengdu        NaT  \n",
            "999     0.31  United States      Miami        NaT  \n",
            "\n",
            "[1000 rows x 14 columns]\n"
          ]
        }
      ]
    },
    {
      "cell_type": "code",
      "source": [
        "#Creating new columns based on conditions:\n",
        "#dataframe.loc[condition, \"new_column_name\"] = value\n",
        "data.loc[(data[\"Bonus %\"]==0) , \"Bonus Status\"]=\"no bonus\"\n",
        "data.loc[(data[\"Bonus %\"]>0) , \"Bonus Status\"]=\" bonus\"\n",
        "print(data.head(10))\n",
        "\n"
      ],
      "metadata": {
        "colab": {
          "base_uri": "https://localhost:8080/"
        },
        "id": "DkLJtV-f9j2g",
        "outputId": "768426e8-bdd3-4de5-fba6-d1e53605aba5"
      },
      "execution_count": null,
      "outputs": [
        {
          "output_type": "stream",
          "name": "stdout",
          "text": [
            "     EEID        Full Name                 Job Title  Department  \\\n",
            "0  E02387      Emily Davis                Sr. Manger          IT   \n",
            "1  E04105    Theodore Dinh       Technical Architect          IT   \n",
            "2  E02572     Luna Sanders                  Director     Finance   \n",
            "3  E02832  Penelope Jordan  Computer Systems Manager          IT   \n",
            "4  E01639        Austin Vo               Sr. Analyst     Finance   \n",
            "5  E00644     Joshua Gupta    Account Representative       Sales   \n",
            "6  E01550      Ruby Barnes                   Manager          IT   \n",
            "7  E04332      Luke Martin                   Analyst     Finance   \n",
            "8  E04533    Easton Bailey                   Manager  Accounting   \n",
            "9  E03838  Madeline Walker               Sr. Analyst     Finance   \n",
            "\n",
            "            Business Unit  Gender  Ethnicity  Age  Hire Date  Annual Salary  \\\n",
            "0  Research & Development  Female      Black   55 2016-04-08         141604   \n",
            "1           Manufacturing    Male      Asian   59 1997-11-29          99975   \n",
            "2     Speciality Products  Female  Caucasian   50 2006-10-26         163099   \n",
            "3           Manufacturing  Female  Caucasian   26 2019-09-27          84913   \n",
            "4           Manufacturing    Male      Asian   55 1995-11-20          95409   \n",
            "5               Corporate    Male      Asian   57 2017-01-24          50994   \n",
            "6               Corporate  Female  Caucasian   27 2020-07-01         119746   \n",
            "7           Manufacturing    Male      Black   25 2020-05-16          41336   \n",
            "8           Manufacturing    Male  Caucasian   29 2019-01-25         113527   \n",
            "9     Speciality Products  Female  Caucasian   34 2018-06-13          77203   \n",
            "\n",
            "   Bonus %        Country       City  Exit Date Bonus Status  \n",
            "0     0.15  United States    Seattle 2021-10-16        bonus  \n",
            "1     0.00          China  Chongqing        NaT     no bonus  \n",
            "2     0.20  United States    Chicago        NaT        bonus  \n",
            "3     0.07  United States    Chicago        NaT        bonus  \n",
            "4     0.00  United States    Phoenix        NaT     no bonus  \n",
            "5     0.00          China  Chongqing        NaT     no bonus  \n",
            "6     0.10  United States    Phoenix        NaT        bonus  \n",
            "7     0.00  United States      Miami 2021-05-20     no bonus  \n",
            "8     0.06  United States     Austin        NaT        bonus  \n",
            "9     0.00  United States    Chicago        NaT     no bonus  \n"
          ]
        }
      ]
    },
    {
      "cell_type": "code",
      "source": [
        "#Another way\n",
        "#Creating new columns based on conditions:\n",
        "#dataframe.loc[condition, \"new_column_name\"] = value\n",
        "import numpy as np\n",
        "\n",
        "# Same logic as your original code but in one line\n",
        "data['Bonus Status'] = np.where(data['Bonus %'] == 0, 'no b', 'b')\n",
        "print(data)"
      ],
      "metadata": {
        "colab": {
          "base_uri": "https://localhost:8080/"
        },
        "id": "QuhoO7xFAVQH",
        "outputId": "035922d4-7fd2-46cd-8af9-1e9764d40f6d"
      },
      "execution_count": null,
      "outputs": [
        {
          "output_type": "stream",
          "name": "stdout",
          "text": [
            "       EEID        Full Name                 Job Title  Department  \\\n",
            "0    E02387      Emily Davis                Sr. Manger          IT   \n",
            "1    E04105    Theodore Dinh       Technical Architect          IT   \n",
            "2    E02572     Luna Sanders                  Director     Finance   \n",
            "3    E02832  Penelope Jordan  Computer Systems Manager          IT   \n",
            "4    E01639        Austin Vo               Sr. Analyst     Finance   \n",
            "..      ...              ...                       ...         ...   \n",
            "995  E03094     Wesley Young               Sr. Analyst   Marketing   \n",
            "996  E01909     Lillian Khan                   Analyst     Finance   \n",
            "997  E04398      Oliver Yang                  Director   Marketing   \n",
            "998  E02521      Lily Nguyen               Sr. Analyst     Finance   \n",
            "999  E03545      Sofia Cheng            Vice President  Accounting   \n",
            "\n",
            "              Business Unit  Gender  Ethnicity  Age  Hire Date  Annual Salary  \\\n",
            "0    Research & Development  Female      Black   55 2016-04-08         141604   \n",
            "1             Manufacturing    Male      Asian   59 1997-11-29          99975   \n",
            "2       Speciality Products  Female  Caucasian   50 2006-10-26         163099   \n",
            "3             Manufacturing  Female  Caucasian   26 2019-09-27          84913   \n",
            "4             Manufacturing    Male      Asian   55 1995-11-20          95409   \n",
            "..                      ...     ...        ...  ...        ...            ...   \n",
            "995     Speciality Products    Male  Caucasian   33 2016-09-18          98427   \n",
            "996     Speciality Products  Female      Asian   44 2010-05-31          47387   \n",
            "997     Speciality Products    Male      Asian   31 2019-06-10         176710   \n",
            "998     Speciality Products  Female      Asian   33 2012-01-28          95960   \n",
            "999               Corporate  Female      Asian   63 2020-07-26         216195   \n",
            "\n",
            "     Bonus %        Country       City  Exit Date Bonus Status  \n",
            "0       0.15  United States    Seattle 2021-10-16            b  \n",
            "1       0.00          China  Chongqing        NaT         no b  \n",
            "2       0.20  United States    Chicago        NaT            b  \n",
            "3       0.07  United States    Chicago        NaT            b  \n",
            "4       0.00  United States    Phoenix        NaT         no b  \n",
            "..       ...            ...        ...        ...          ...  \n",
            "995     0.00  United States   Columbus        NaT         no b  \n",
            "996     0.00          China    Chengdu 2018-01-08         no b  \n",
            "997     0.15  United States      Miami        NaT            b  \n",
            "998     0.00          China    Chengdu        NaT         no b  \n",
            "999     0.31  United States      Miami        NaT            b  \n",
            "\n",
            "[1000 rows x 15 columns]\n"
          ]
        }
      ]
    },
    {
      "cell_type": "code",
      "source": [
        "data = pd.read_excel(\"expense3.xlsx\")\n",
        "print(data)"
      ],
      "metadata": {
        "colab": {
          "base_uri": "https://localhost:8080/"
        },
        "id": "6aOUeTRkBCPC",
        "outputId": "cf12b466-56eb-4247-d7c7-56bb2403d3f8"
      },
      "execution_count": null,
      "outputs": [
        {
          "output_type": "stream",
          "name": "stdout",
          "text": [
            "         Date    Category       Sub-Category   Amount Payment Mode\n",
            "0  2023-01-01     Grocery             Grocery      30         Cash\n",
            "1  2023-01-02        Food          Restaurant     890          UPI\n",
            "2  2023-01-04         123              Zomato     257          NaN\n",
            "3  2023-01-06  Essentials               Diary     120          UPI\n",
            "4  2023-01-06  Essentials             Perfume    1500         Cash\n",
            "5  2023-01-09     Grocery  Fruits and Veggies     456         Cash\n",
            "6  2023-01-10       Bills          House Rent   16000          UPI\n",
            "7  2023-01-10     Grocery      Tomato KetchUp      70          UPI\n",
            "8  2023-01-12        Food                Chai      15          UPI\n",
            "9  2023-01-15  Essentials      Salt and Sugar      50          NaN\n",
            "10 2023-01-17     Grocery           Chocolate     100          UPI\n",
            "11 2023-01-17        Food          Restaurant     780         Card\n",
            "12 2023-01-18  Essentials            Food Oil     120          NaN\n",
            "13 2023-01-18        Food              Zomato     230          UPI\n",
            "14 2023-01-19     Grocery                Milk      26          UPI\n",
            "15 2023-01-20  Essentials             Shampoo     780          UPI\n",
            "16 2023-01-20  Essentials           Lunch Box     890         Cash\n",
            "17 2023-01-21     Clothes               Dress    1000          NaN\n",
            "18 2023-01-22     Clothes               Dress    1890          UPI\n",
            "19 2023-01-23     Grocery      Bread and Milk      56         Cash\n",
            "20 2023-01-24        Food  Fruits and Veggies     530         Cash\n",
            "21 2023-01-26        Food                Chai      10          UPI\n",
            "22 2023-01-26     Grocery               Maggi     140          UPI\n",
            "23 2023-01-27        Food              Zomato     300          UPI\n",
            "24 2023-01-27        Food                Chai      10          UPI\n",
            "25 2023-01-28  Essentials           Bedsheets    1025         Cash\n",
            "26 2023-01-29       Bills             Mobile     1650          UPI\n",
            "27 2023-01-29     Grocery                Daal     150         Cash\n",
            "28 2023-01-30       Bills            Cylinder    1074          UPI\n"
          ]
        }
      ]
    },
    {
      "cell_type": "code",
      "source": [
        "data[\"category Paymentmode\"]=data[\"Category\"]+ data[\"Payment Mode\"]\n",
        "print(data)"
      ],
      "metadata": {
        "colab": {
          "base_uri": "https://localhost:8080/"
        },
        "id": "tdgD1TlVCQpX",
        "outputId": "9216b6ab-606f-44b2-c167-4457f34ca696"
      },
      "execution_count": null,
      "outputs": [
        {
          "output_type": "stream",
          "name": "stdout",
          "text": [
            "         Date    Category       Sub-Category   Amount Payment Mode  \\\n",
            "0  2023-01-01     Grocery             Grocery      30         Cash   \n",
            "1  2023-01-02        Food          Restaurant     890          UPI   \n",
            "2  2023-01-04         123              Zomato     257          NaN   \n",
            "3  2023-01-06  Essentials               Diary     120          UPI   \n",
            "4  2023-01-06  Essentials             Perfume    1500         Cash   \n",
            "5  2023-01-09     Grocery  Fruits and Veggies     456         Cash   \n",
            "6  2023-01-10       Bills          House Rent   16000          UPI   \n",
            "7  2023-01-10     Grocery      Tomato KetchUp      70          UPI   \n",
            "8  2023-01-12        Food                Chai      15          UPI   \n",
            "9  2023-01-15  Essentials      Salt and Sugar      50          NaN   \n",
            "10 2023-01-17     Grocery           Chocolate     100          UPI   \n",
            "11 2023-01-17        Food          Restaurant     780         Card   \n",
            "12 2023-01-18  Essentials            Food Oil     120          NaN   \n",
            "13 2023-01-18        Food              Zomato     230          UPI   \n",
            "14 2023-01-19     Grocery                Milk      26          UPI   \n",
            "15 2023-01-20  Essentials             Shampoo     780          UPI   \n",
            "16 2023-01-20  Essentials           Lunch Box     890         Cash   \n",
            "17 2023-01-21     Clothes               Dress    1000          NaN   \n",
            "18 2023-01-22     Clothes               Dress    1890          UPI   \n",
            "19 2023-01-23     Grocery      Bread and Milk      56         Cash   \n",
            "20 2023-01-24        Food  Fruits and Veggies     530         Cash   \n",
            "21 2023-01-26        Food                Chai      10          UPI   \n",
            "22 2023-01-26     Grocery               Maggi     140          UPI   \n",
            "23 2023-01-27        Food              Zomato     300          UPI   \n",
            "24 2023-01-27        Food                Chai      10          UPI   \n",
            "25 2023-01-28  Essentials           Bedsheets    1025         Cash   \n",
            "26 2023-01-29       Bills             Mobile     1650          UPI   \n",
            "27 2023-01-29     Grocery                Daal     150         Cash   \n",
            "28 2023-01-30       Bills            Cylinder    1074          UPI   \n",
            "\n",
            "   category Paymentmode  \n",
            "0           GroceryCash  \n",
            "1               FoodUPI  \n",
            "2                   NaN  \n",
            "3         EssentialsUPI  \n",
            "4        EssentialsCash  \n",
            "5           GroceryCash  \n",
            "6              BillsUPI  \n",
            "7            GroceryUPI  \n",
            "8               FoodUPI  \n",
            "9                   NaN  \n",
            "10           GroceryUPI  \n",
            "11             FoodCard  \n",
            "12                  NaN  \n",
            "13              FoodUPI  \n",
            "14           GroceryUPI  \n",
            "15        EssentialsUPI  \n",
            "16       EssentialsCash  \n",
            "17                  NaN  \n",
            "18           ClothesUPI  \n",
            "19          GroceryCash  \n",
            "20             FoodCash  \n",
            "21              FoodUPI  \n",
            "22           GroceryUPI  \n",
            "23              FoodUPI  \n",
            "24              FoodUPI  \n",
            "25       EssentialsCash  \n",
            "26             BillsUPI  \n",
            "27          GroceryCash  \n",
            "28             BillsUPI  \n"
          ]
        }
      ]
    },
    {
      "cell_type": "code",
      "source": [
        "data = pd.read_excel(\"expense3.xlsx\")\n",
        "print(data)\n",
        "#Changing Data Types\n",
        "data[\"category Paymentmode\"]=data[\"Category\"].astype(str)  +\"  \"+  data[\"Payment Mode\"].astype(str)\n",
        "print(data)"
      ],
      "metadata": {
        "colab": {
          "base_uri": "https://localhost:8080/"
        },
        "id": "PIeqlzX5DWK3",
        "outputId": "8e4cbb54-e428-4019-8afe-309347d9c3ee"
      },
      "execution_count": null,
      "outputs": [
        {
          "output_type": "stream",
          "name": "stdout",
          "text": [
            "         Date    Category       Sub-Category   Amount Payment Mode\n",
            "0  2023-01-01     Grocery             Grocery      30         Cash\n",
            "1  2023-01-02        Food          Restaurant     890          UPI\n",
            "2  2023-01-04         123              Zomato     257          NaN\n",
            "3  2023-01-06  Essentials               Diary     120          UPI\n",
            "4  2023-01-06  Essentials             Perfume    1500         Cash\n",
            "5  2023-01-09     Grocery  Fruits and Veggies     456         Cash\n",
            "6  2023-01-10       Bills          House Rent   16000          UPI\n",
            "7  2023-01-10     Grocery      Tomato KetchUp      70          UPI\n",
            "8  2023-01-12        Food                Chai      15          UPI\n",
            "9  2023-01-15  Essentials      Salt and Sugar      50          NaN\n",
            "10 2023-01-17     Grocery           Chocolate     100          UPI\n",
            "11 2023-01-17        Food          Restaurant     780         Card\n",
            "12 2023-01-18  Essentials            Food Oil     120          NaN\n",
            "13 2023-01-18        Food              Zomato     230          UPI\n",
            "14 2023-01-19     Grocery                Milk      26          UPI\n",
            "15 2023-01-20  Essentials             Shampoo     780          UPI\n",
            "16 2023-01-20  Essentials           Lunch Box     890         Cash\n",
            "17 2023-01-21     Clothes               Dress    1000          NaN\n",
            "18 2023-01-22     Clothes               Dress    1890          UPI\n",
            "19 2023-01-23     Grocery      Bread and Milk      56         Cash\n",
            "20 2023-01-24        Food  Fruits and Veggies     530         Cash\n",
            "21 2023-01-26        Food                Chai      10          UPI\n",
            "22 2023-01-26     Grocery               Maggi     140          UPI\n",
            "23 2023-01-27        Food              Zomato     300          UPI\n",
            "24 2023-01-27        Food                Chai      10          UPI\n",
            "25 2023-01-28  Essentials           Bedsheets    1025         Cash\n",
            "26 2023-01-29       Bills             Mobile     1650          UPI\n",
            "27 2023-01-29     Grocery                Daal     150         Cash\n",
            "28 2023-01-30       Bills            Cylinder    1074          UPI\n",
            "         Date    Category       Sub-Category   Amount Payment Mode  \\\n",
            "0  2023-01-01     Grocery             Grocery      30         Cash   \n",
            "1  2023-01-02        Food          Restaurant     890          UPI   \n",
            "2  2023-01-04         123              Zomato     257          NaN   \n",
            "3  2023-01-06  Essentials               Diary     120          UPI   \n",
            "4  2023-01-06  Essentials             Perfume    1500         Cash   \n",
            "5  2023-01-09     Grocery  Fruits and Veggies     456         Cash   \n",
            "6  2023-01-10       Bills          House Rent   16000          UPI   \n",
            "7  2023-01-10     Grocery      Tomato KetchUp      70          UPI   \n",
            "8  2023-01-12        Food                Chai      15          UPI   \n",
            "9  2023-01-15  Essentials      Salt and Sugar      50          NaN   \n",
            "10 2023-01-17     Grocery           Chocolate     100          UPI   \n",
            "11 2023-01-17        Food          Restaurant     780         Card   \n",
            "12 2023-01-18  Essentials            Food Oil     120          NaN   \n",
            "13 2023-01-18        Food              Zomato     230          UPI   \n",
            "14 2023-01-19     Grocery                Milk      26          UPI   \n",
            "15 2023-01-20  Essentials             Shampoo     780          UPI   \n",
            "16 2023-01-20  Essentials           Lunch Box     890         Cash   \n",
            "17 2023-01-21     Clothes               Dress    1000          NaN   \n",
            "18 2023-01-22     Clothes               Dress    1890          UPI   \n",
            "19 2023-01-23     Grocery      Bread and Milk      56         Cash   \n",
            "20 2023-01-24        Food  Fruits and Veggies     530         Cash   \n",
            "21 2023-01-26        Food                Chai      10          UPI   \n",
            "22 2023-01-26     Grocery               Maggi     140          UPI   \n",
            "23 2023-01-27        Food              Zomato     300          UPI   \n",
            "24 2023-01-27        Food                Chai      10          UPI   \n",
            "25 2023-01-28  Essentials           Bedsheets    1025         Cash   \n",
            "26 2023-01-29       Bills             Mobile     1650          UPI   \n",
            "27 2023-01-29     Grocery                Daal     150         Cash   \n",
            "28 2023-01-30       Bills            Cylinder    1074          UPI   \n",
            "\n",
            "   category Paymentmode  \n",
            "0         Grocery  Cash  \n",
            "1             Food  UPI  \n",
            "2              123  nan  \n",
            "3       Essentials  UPI  \n",
            "4      Essentials  Cash  \n",
            "5         Grocery  Cash  \n",
            "6            Bills  UPI  \n",
            "7          Grocery  UPI  \n",
            "8             Food  UPI  \n",
            "9       Essentials  nan  \n",
            "10         Grocery  UPI  \n",
            "11           Food  Card  \n",
            "12      Essentials  nan  \n",
            "13            Food  UPI  \n",
            "14         Grocery  UPI  \n",
            "15      Essentials  UPI  \n",
            "16     Essentials  Cash  \n",
            "17         Clothes  nan  \n",
            "18         Clothes  UPI  \n",
            "19        Grocery  Cash  \n",
            "20           Food  Cash  \n",
            "21            Food  UPI  \n",
            "22         Grocery  UPI  \n",
            "23            Food  UPI  \n",
            "24            Food  UPI  \n",
            "25     Essentials  Cash  \n",
            "26           Bills  UPI  \n",
            "27        Grocery  Cash  \n",
            "28           Bills  UPI  \n"
          ]
        }
      ]
    },
    {
      "cell_type": "code",
      "source": [
        "data = pd.read_csv(\"company1.csv\")\n",
        "print(data)"
      ],
      "metadata": {
        "colab": {
          "base_uri": "https://localhost:8080/"
        },
        "id": "N0K5CGb9DgHg",
        "outputId": "2e9a2469-68f1-4bd5-bf53-fa284fe8340e"
      },
      "execution_count": null,
      "outputs": [
        {
          "output_type": "stream",
          "name": "stdout",
          "text": [
            "    EEID      Name gender   salary\n",
            "0  EMP01    ayushi      F      NaN\n",
            "1  EMP02     rohit      M  25000.0\n",
            "2  EMP03  pranjali    NaN  27000.0\n",
            "3  EMP01    ayushi      F  20000.0\n",
            "4  EMP05       NaN      M  25000.0\n",
            "5  EMP06     rohit      M      NaN\n",
            "6  EMP02     rohit      M  25000.0\n"
          ]
        }
      ]
    },
    {
      "cell_type": "code",
      "source": [
        "print(data.dropna())"
      ],
      "metadata": {
        "colab": {
          "base_uri": "https://localhost:8080/"
        },
        "id": "rItgLTeOG0yo",
        "outputId": "905ce3c8-c7bf-41a7-8c61-c0b356e73a25"
      },
      "execution_count": null,
      "outputs": [
        {
          "output_type": "stream",
          "name": "stdout",
          "text": [
            "    EEID    Name gender   salary\n",
            "1  EMP02   rohit      M  25000.0\n",
            "3  EMP01  ayushi      F  20000.0\n",
            "6  EMP02   rohit      M  25000.0\n"
          ]
        }
      ]
    },
    {
      "cell_type": "code",
      "source": [
        "print(data.ffill())"
      ],
      "metadata": {
        "colab": {
          "base_uri": "https://localhost:8080/"
        },
        "id": "sCZ1zdvDG7ON",
        "outputId": "fef8c08a-b7c0-489d-cc9d-399dfd448063"
      },
      "execution_count": null,
      "outputs": [
        {
          "output_type": "stream",
          "name": "stdout",
          "text": [
            "    EEID      Name gender   salary\n",
            "0  EMP01    ayushi      F      NaN\n",
            "1  EMP02     rohit      M  25000.0\n",
            "2  EMP03  pranjali      M  27000.0\n",
            "3  EMP01    ayushi      F  20000.0\n",
            "4  EMP05    ayushi      M  25000.0\n",
            "5  EMP06     rohit      M  25000.0\n",
            "6  EMP02     rohit      M  25000.0\n"
          ]
        }
      ]
    },
    {
      "cell_type": "code",
      "source": [
        "\n",
        "data[\"Bonus\"]=(data[\"salary\"]/100)*20\n",
        "print(data)"
      ],
      "metadata": {
        "colab": {
          "base_uri": "https://localhost:8080/"
        },
        "id": "EG4RPriyIBLT",
        "outputId": "69607aa3-a9c0-4345-9804-ce91a9871275"
      },
      "execution_count": null,
      "outputs": [
        {
          "output_type": "stream",
          "name": "stdout",
          "text": [
            "    EEID      Name gender   salary   Bonus\n",
            "0  EMP01    ayushi      F      NaN     NaN\n",
            "1  EMP02     rohit      M  25000.0  5000.0\n",
            "2  EMP03  pranjali    NaN  27000.0  5400.0\n",
            "3  EMP01    ayushi      F  20000.0  4000.0\n",
            "4  EMP05       NaN      M  25000.0  5000.0\n",
            "5  EMP06     rohit      M      NaN     NaN\n",
            "6  EMP02     rohit      M  25000.0  5000.0\n"
          ]
        }
      ]
    },
    {
      "cell_type": "code",
      "source": [],
      "metadata": {
        "id": "SXH65w-uITWj"
      },
      "execution_count": null,
      "outputs": []
    }
  ]
}