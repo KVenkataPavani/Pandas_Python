{
  "nbformat": 4,
  "nbformat_minor": 0,
  "metadata": {
    "colab": {
      "provenance": [],
      "authorship_tag": "ABX9TyODIkwemURiC8eMDoWWbutS",
      "include_colab_link": true
    },
    "kernelspec": {
      "name": "python3",
      "display_name": "Python 3"
    },
    "language_info": {
      "name": "python"
    }
  },
  "cells": [
    {
      "cell_type": "markdown",
      "metadata": {
        "id": "view-in-github",
        "colab_type": "text"
      },
      "source": [
        "<a href=\"https://colab.research.google.com/github/KVenkataPavani/Pandas_Python/blob/main/Reading_Files_in_Pandas.ipynb\" target=\"_parent\"><img src=\"https://colab.research.google.com/assets/colab-badge.svg\" alt=\"Open In Colab\"/></a>"
      ]
    },
    {
      "cell_type": "code",
      "execution_count": 1,
      "metadata": {
        "id": "CD3XybSaHgvi"
      },
      "outputs": [],
      "source": [
        "import pandas as pd"
      ]
    },
    {
      "cell_type": "code",
      "source": [
        "data  = {\"Name\" :[\"pavani\", \"Javani\", \"lisani\" ],\n",
        "         \"Age\" : [18,24,35],\n",
        "         \"Salary\" : [25000, 30000, 45000] }\n",
        "df = pd.DataFrame(data)\n",
        "print(df)"
      ],
      "metadata": {
        "colab": {
          "base_uri": "https://localhost:8080/"
        },
        "id": "WYT8s5EeT3Mr",
        "outputId": "b981f421-99ef-4e70-f56f-92bfd30d0e08"
      },
      "execution_count": 5,
      "outputs": [
        {
          "output_type": "stream",
          "name": "stdout",
          "text": [
            "     Name  Age  Salary\n",
            "0  pavani   18   25000\n",
            "1  Javani   24   30000\n",
            "2  lisani   35   45000\n"
          ]
        }
      ]
    },
    {
      "cell_type": "code",
      "source": [
        "import pandas as pd\n",
        "\n",
        "data = {\n",
        "  \"calories\": [420, 380, 390],\n",
        "  \"duration\": [50, 40, 45]\n",
        "}\n",
        "\n",
        "df = pd.DataFrame(data)\n",
        "\n",
        "print(df)"
      ],
      "metadata": {
        "colab": {
          "base_uri": "https://localhost:8080/"
        },
        "id": "nVfgu37HW2WB",
        "outputId": "78993dd6-0fe8-4fb2-8e8b-94487ae37542"
      },
      "execution_count": 6,
      "outputs": [
        {
          "output_type": "stream",
          "name": "stdout",
          "text": [
            "   calories  duration\n",
            "0       420        50\n",
            "1       380        40\n",
            "2       390        45\n"
          ]
        }
      ]
    },
    {
      "cell_type": "code",
      "source": [
        "import pandas as pd\n",
        "\n",
        "data = {\n",
        "  \"calories\": [420, 380, 390],\n",
        "  \"duration\": [50, 40, 45]\n",
        "}\n",
        "\n",
        "df = pd.DataFrame(data, index = [\"day1\", \"day2\", \"day3\"])\n",
        "\n",
        "print(df)"
      ],
      "metadata": {
        "colab": {
          "base_uri": "https://localhost:8080/"
        },
        "id": "gqa9ntexW6H7",
        "outputId": "1d9cd406-309b-4e56-dfae-65cad1e77ac5"
      },
      "execution_count": 7,
      "outputs": [
        {
          "output_type": "stream",
          "name": "stdout",
          "text": [
            "      calories  duration\n",
            "day1       420        50\n",
            "day2       380        40\n",
            "day3       390        45\n"
          ]
        }
      ]
    },
    {
      "cell_type": "code",
      "source": [
        "# loc attribute to return the specified row(s).\n",
        "df.loc[\"day2\"]"
      ],
      "metadata": {
        "colab": {
          "base_uri": "https://localhost:8080/",
          "height": 147
        },
        "id": "V5T_7vcBXKFT",
        "outputId": "3a92b6c3-2271-4f9e-b60d-0a1966a7e24e"
      },
      "execution_count": 12,
      "outputs": [
        {
          "output_type": "execute_result",
          "data": {
            "text/plain": [
              "calories    380\n",
              "duration     40\n",
              "Name: day2, dtype: int64"
            ],
            "text/html": [
              "<div>\n",
              "<style scoped>\n",
              "    .dataframe tbody tr th:only-of-type {\n",
              "        vertical-align: middle;\n",
              "    }\n",
              "\n",
              "    .dataframe tbody tr th {\n",
              "        vertical-align: top;\n",
              "    }\n",
              "\n",
              "    .dataframe thead th {\n",
              "        text-align: right;\n",
              "    }\n",
              "</style>\n",
              "<table border=\"1\" class=\"dataframe\">\n",
              "  <thead>\n",
              "    <tr style=\"text-align: right;\">\n",
              "      <th></th>\n",
              "      <th>day2</th>\n",
              "    </tr>\n",
              "  </thead>\n",
              "  <tbody>\n",
              "    <tr>\n",
              "      <th>calories</th>\n",
              "      <td>380</td>\n",
              "    </tr>\n",
              "    <tr>\n",
              "      <th>duration</th>\n",
              "      <td>40</td>\n",
              "    </tr>\n",
              "  </tbody>\n",
              "</table>\n",
              "</div><br><label><b>dtype:</b> int64</label>"
            ]
          },
          "metadata": {},
          "execution_count": 12
        }
      ]
    },
    {
      "cell_type": "code",
      "source": [
        "# Load Files Into a DataFrame\n",
        "# df = pd.read_csv('filename.csv')\n",
        "# df = pd.read_excel('filename.xlsx')\n",
        "#df = pd.read_json('data.json')\n",
        "\n",
        "\n",
        "data = pd.read_csv(\"company.csv\")\n",
        "print(data)"
      ],
      "metadata": {
        "colab": {
          "base_uri": "https://localhost:8080/"
        },
        "id": "OQV6w5PxZ6e3",
        "outputId": "ef1da09e-e8d3-429f-f62b-ecf883f47ff2"
      },
      "execution_count": 15,
      "outputs": [
        {
          "output_type": "stream",
          "name": "stdout",
          "text": [
            "   Unnamed: 0      Name gender  salary\n",
            "0           0    ayushi      F   20000\n",
            "1           1     rohit      M   25000\n",
            "2           2  pranjali      F   27000\n"
          ]
        }
      ]
    },
    {
      "cell_type": "code",
      "source": [
        "# Load Files Into a DataFrame\n",
        "# df = pd.read_csv('filename.csv')\n",
        "# df = pd.read_excel('filename.xlsx')\n",
        "#df = pd.read_json('data.json')\n",
        "\n",
        "\n",
        "\n",
        "data = pd.read_excel(\"expense3.xlsx\")\n",
        "print(data)\n"
      ],
      "metadata": {
        "colab": {
          "base_uri": "https://localhost:8080/"
        },
        "id": "MneUqbYHXRtx",
        "outputId": "f9569edb-0df2-4719-ed1d-c4b4e7d6545d"
      },
      "execution_count": 14,
      "outputs": [
        {
          "output_type": "stream",
          "name": "stdout",
          "text": [
            "         Date    Category       Sub-Category   Amount Payment Mode\n",
            "0  2023-01-01     Grocery             Grocery      30         Cash\n",
            "1  2023-01-02        Food          Restaurant     890          UPI\n",
            "2  2023-01-04         123              Zomato     257          NaN\n",
            "3  2023-01-06  Essentials               Diary     120          UPI\n",
            "4  2023-01-06  Essentials             Perfume    1500         Cash\n",
            "5  2023-01-09     Grocery  Fruits and Veggies     456         Cash\n",
            "6  2023-01-10       Bills          House Rent   16000          UPI\n",
            "7  2023-01-10     Grocery      Tomato KetchUp      70          UPI\n",
            "8  2023-01-12        Food                Chai      15          UPI\n",
            "9  2023-01-15  Essentials      Salt and Sugar      50          NaN\n",
            "10 2023-01-17     Grocery           Chocolate     100          UPI\n",
            "11 2023-01-17        Food          Restaurant     780         Card\n",
            "12 2023-01-18  Essentials            Food Oil     120          NaN\n",
            "13 2023-01-18        Food              Zomato     230          UPI\n",
            "14 2023-01-19     Grocery                Milk      26          UPI\n",
            "15 2023-01-20  Essentials             Shampoo     780          UPI\n",
            "16 2023-01-20  Essentials           Lunch Box     890         Cash\n",
            "17 2023-01-21     Clothes               Dress    1000          NaN\n",
            "18 2023-01-22     Clothes               Dress    1890          UPI\n",
            "19 2023-01-23     Grocery      Bread and Milk      56         Cash\n",
            "20 2023-01-24        Food  Fruits and Veggies     530         Cash\n",
            "21 2023-01-26        Food                Chai      10          UPI\n",
            "22 2023-01-26     Grocery               Maggi     140          UPI\n",
            "23 2023-01-27        Food              Zomato     300          UPI\n",
            "24 2023-01-27        Food                Chai      10          UPI\n",
            "25 2023-01-28  Essentials           Bedsheets    1025         Cash\n",
            "26 2023-01-29       Bills             Mobile     1650          UPI\n",
            "27 2023-01-29     Grocery                Daal     150         Cash\n",
            "28 2023-01-30       Bills            Cylinder    1074          UPI\n"
          ]
        }
      ]
    }
  ]
}