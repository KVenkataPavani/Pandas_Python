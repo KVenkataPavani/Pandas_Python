{
  "nbformat": 4,
  "nbformat_minor": 0,
  "metadata": {
    "colab": {
      "provenance": [],
      "authorship_tag": "ABX9TyNNn4whLuMVR9RCkWvz0lOq",
      "include_colab_link": true
    },
    "kernelspec": {
      "name": "python3",
      "display_name": "Python 3"
    },
    "language_info": {
      "name": "python"
    }
  },
  "cells": [
    {
      "cell_type": "markdown",
      "metadata": {
        "id": "view-in-github",
        "colab_type": "text"
      },
      "source": [
        "<a href=\"https://colab.research.google.com/github/KVenkataPavani/Pandas_Python/blob/main/Group_BY_in_pandas.ipynb\" target=\"_parent\"><img src=\"https://colab.research.google.com/assets/colab-badge.svg\" alt=\"Open In Colab\"/></a>"
      ]
    },
    {
      "cell_type": "markdown",
      "source": [
        "#**Group BY in pandas**"
      ],
      "metadata": {
        "id": "galhHQI4J_TD"
      }
    },
    {
      "cell_type": "code",
      "source": [
        "import pandas as pd"
      ],
      "metadata": {
        "id": "x9iohbWHKDGH"
      },
      "execution_count": 1,
      "outputs": []
    },
    {
      "cell_type": "code",
      "source": [
        "data = pd.read_excel(\"ESD.xlsx\")\n",
        "print(data)"
      ],
      "metadata": {
        "colab": {
          "base_uri": "https://localhost:8080/"
        },
        "id": "pHBff8LiKf4X",
        "outputId": "17aabc1f-d0d8-4aed-e78d-b5f004ddfca1"
      },
      "execution_count": 3,
      "outputs": [
        {
          "output_type": "stream",
          "name": "stdout",
          "text": [
            "       EEID        Full Name                 Job Title  Department  \\\n",
            "0    E02387      Emily Davis                Sr. Manger          IT   \n",
            "1    E04105    Theodore Dinh       Technical Architect          IT   \n",
            "2    E02572     Luna Sanders                  Director     Finance   \n",
            "3    E02832  Penelope Jordan  Computer Systems Manager          IT   \n",
            "4    E01639        Austin Vo               Sr. Analyst     Finance   \n",
            "..      ...              ...                       ...         ...   \n",
            "995  E03094     Wesley Young               Sr. Analyst   Marketing   \n",
            "996  E01909     Lillian Khan                   Analyst     Finance   \n",
            "997  E04398      Oliver Yang                  Director   Marketing   \n",
            "998  E02521      Lily Nguyen               Sr. Analyst     Finance   \n",
            "999  E03545      Sofia Cheng            Vice President  Accounting   \n",
            "\n",
            "              Business Unit  Gender  Ethnicity  Age  Hire Date  Annual Salary  \\\n",
            "0    Research & Development  Female      Black   55 2016-04-08         141604   \n",
            "1             Manufacturing    Male      Asian   59 1997-11-29          99975   \n",
            "2       Speciality Products  Female  Caucasian   50 2006-10-26         163099   \n",
            "3             Manufacturing  Female  Caucasian   26 2019-09-27          84913   \n",
            "4             Manufacturing    Male      Asian   55 1995-11-20          95409   \n",
            "..                      ...     ...        ...  ...        ...            ...   \n",
            "995     Speciality Products    Male  Caucasian   33 2016-09-18          98427   \n",
            "996     Speciality Products  Female      Asian   44 2010-05-31          47387   \n",
            "997     Speciality Products    Male      Asian   31 2019-06-10         176710   \n",
            "998     Speciality Products  Female      Asian   33 2012-01-28          95960   \n",
            "999               Corporate  Female      Asian   63 2020-07-26         216195   \n",
            "\n",
            "     Bonus %        Country       City  Exit Date  \n",
            "0       0.15  United States    Seattle 2021-10-16  \n",
            "1       0.00          China  Chongqing        NaT  \n",
            "2       0.20  United States    Chicago        NaT  \n",
            "3       0.07  United States    Chicago        NaT  \n",
            "4       0.00  United States    Phoenix        NaT  \n",
            "..       ...            ...        ...        ...  \n",
            "995     0.00  United States   Columbus        NaT  \n",
            "996     0.00          China    Chengdu 2018-01-08  \n",
            "997     0.15  United States      Miami        NaT  \n",
            "998     0.00          China    Chengdu        NaT  \n",
            "999     0.31  United States      Miami        NaT  \n",
            "\n",
            "[1000 rows x 14 columns]\n"
          ]
        }
      ]
    },
    {
      "cell_type": "code",
      "source": [
        "gf = data.groupby(\"Department\").agg({\"EEID\":\"count\"})\n",
        "print(gf)"
      ],
      "metadata": {
        "colab": {
          "base_uri": "https://localhost:8080/"
        },
        "id": "LjC4T1VbKxAH",
        "outputId": "a0a0b877-cb36-40ea-cad8-6cc085f78127"
      },
      "execution_count": 8,
      "outputs": [
        {
          "output_type": "stream",
          "name": "stdout",
          "text": [
            "                 EEID\n",
            "Department           \n",
            "Accounting         96\n",
            "Engineering       158\n",
            "Finance           120\n",
            "Human Resources   125\n",
            "IT                241\n",
            "Marketing         120\n",
            "Sales             140\n"
          ]
        }
      ]
    },
    {
      "cell_type": "code",
      "source": [
        "gf = data.groupby([\"Department\",\"Gender\"]).agg({\"EEID\":\"count\"})\n",
        "print(gf)"
      ],
      "metadata": {
        "colab": {
          "base_uri": "https://localhost:8080/"
        },
        "id": "yL2v1KDwLRl2",
        "outputId": "5404d746-e7f5-4421-cbeb-8274b8ff9b8f"
      },
      "execution_count": 9,
      "outputs": [
        {
          "output_type": "stream",
          "name": "stdout",
          "text": [
            "                        EEID\n",
            "Department      Gender      \n",
            "Accounting      Female    53\n",
            "                Male      43\n",
            "Engineering     Female    80\n",
            "                Male      78\n",
            "Finance         Female    69\n",
            "                Male      51\n",
            "Human Resources Female    64\n",
            "                Male      61\n",
            "IT              Female   119\n",
            "                Male     122\n",
            "Marketing       Female    57\n",
            "                Male      63\n",
            "Sales           Female    76\n",
            "                Male      64\n"
          ]
        }
      ]
    },
    {
      "cell_type": "code",
      "source": [
        "gf = data.groupby(\"Department\").agg({\"Age\":\"mean\"})\n",
        "print(gf)"
      ],
      "metadata": {
        "colab": {
          "base_uri": "https://localhost:8080/"
        },
        "id": "vnvjJuJBL21Y",
        "outputId": "94ad40b8-cc31-47be-97ec-f632a7c3b0f3"
      },
      "execution_count": 10,
      "outputs": [
        {
          "output_type": "stream",
          "name": "stdout",
          "text": [
            "                       Age\n",
            "Department                \n",
            "Accounting       43.656250\n",
            "Engineering      45.670886\n",
            "Finance          45.291667\n",
            "Human Resources  44.456000\n",
            "IT               44.344398\n",
            "Marketing        43.216667\n",
            "Sales            43.642857\n"
          ]
        }
      ]
    },
    {
      "cell_type": "code",
      "source": [
        "gf = data.groupby([\"Department\",\"Gender\"]).agg({\"Annual Salary\":\"min\"})\n",
        "print(gf)"
      ],
      "metadata": {
        "colab": {
          "base_uri": "https://localhost:8080/"
        },
        "id": "hKwO5TxCMRCk",
        "outputId": "d5865616-56d7-45db-e1b3-9d7af9159007"
      },
      "execution_count": 18,
      "outputs": [
        {
          "output_type": "stream",
          "name": "stdout",
          "text": [
            "                        Annual Salary\n",
            "Department      Gender               \n",
            "Accounting      Female          45049\n",
            "                Male            50883\n",
            "Engineering     Female          60017\n",
            "                Male            60055\n",
            "Finance         Female          43363\n",
            "                Male            41336\n",
            "Human Resources Female          43001\n",
            "                Male            41728\n",
            "IT              Female          40124\n",
            "                Male            40063\n",
            "Marketing       Female          40897\n",
            "                Male            40752\n",
            "Sales           Female          41429\n",
            "                Male            44732\n"
          ]
        }
      ]
    },
    {
      "cell_type": "code",
      "source": [
        "gf = data.groupby(\"Department\").agg({\"Annual Salary\":[\"min\",\"max\"]})\n",
        "print(gf)"
      ],
      "metadata": {
        "colab": {
          "base_uri": "https://localhost:8080/"
        },
        "id": "qXcfKYl1MWRc",
        "outputId": "ee6c1e62-b3e2-439e-8da2-f2f7d3f5ee2a"
      },
      "execution_count": 24,
      "outputs": [
        {
          "output_type": "stream",
          "name": "stdout",
          "text": [
            "                Annual Salary        \n",
            "                          min     max\n",
            "Department                           \n",
            "Accounting              45049  258426\n",
            "Engineering             60017  255431\n",
            "Finance                 41336  255369\n",
            "Human Resources         41728  250953\n",
            "IT                      40063  256561\n",
            "Marketing               40752  257194\n",
            "Sales                   41429  258498\n"
          ]
        }
      ]
    },
    {
      "cell_type": "code",
      "source": [],
      "metadata": {
        "id": "8YFuEgR_NBtS"
      },
      "execution_count": null,
      "outputs": []
    }
  ]
}